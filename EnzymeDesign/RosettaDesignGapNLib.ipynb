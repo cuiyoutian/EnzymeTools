{
 "cells": [
  {
   "cell_type": "code",
   "execution_count": 1,
   "metadata": {},
   "outputs": [
    {
     "name": "stderr",
     "output_type": "stream",
     "text": [
      "/share/siegellab/youtian/anaconda3/lib/python3.6/site-packages/h5py/__init__.py:36: FutureWarning: Conversion of the second argument of issubdtype from `float` to `np.floating` is deprecated. In future, it will be treated as `np.float64 == np.dtype(float).type`.\n",
      "  from ._conv import register_converters as _register_converters\n"
     ]
    }
   ],
   "source": [
    "#import logging\n",
    "#logging.basicConfig(level=logging.INFO)\n",
    "#import matplotlib\n",
    "#%matplotlib inline\n",
    "import os\n",
    "import pandas as pd\n",
    "import pyrosetta\n",
    "import pyrosetta.distributed.io\n",
    "import pyrosetta.toolbox\n",
    "#import seaborn\n",
    "#seaborn.set()\n",
    "import json\n",
    "import csv\n",
    "import sys\n",
    "# from IPython.core.display import display, HTML\n",
    "# display(HTML(\"<style>.container { width:100% !important; }</style>\"))"
   ]
  },
  {
   "cell_type": "code",
   "execution_count": 2,
   "metadata": {
    "scrolled": true
   },
   "outputs": [
    {
     "name": "stdout",
     "output_type": "stream",
     "text": [
      "PyRosetta-4 2019 [Rosetta PyRosetta4.conda.linux.CentOS.python36.Release 2019.19+release.5adc612fd9dee20f808a07e761610d95698b0f35 2019-05-10T09:04:00] retrieved from: http://www.pyrosetta.org\n",
      "(C) Copyright Rosetta Commons Member Institutions. Created in JHU by Sergey Lyskov and PyRosetta Team.\n",
      "\u001b[0mcore.init: \u001b[0mChecking for fconfig files in pwd and ./rosetta/flags\n",
      "\u001b[0mcore.init: \u001b[0mRosetta version: PyRosetta4.conda.linux.CentOS.python36.Release r221 2019.19+release.5adc612f 5adc612fd9dee20f808a07e761610d95698b0f35 http://www.pyrosetta.org 2019-05-10T09:04:00\n",
      "\u001b[0mcore.init: \u001b[0mcommand: PyRosetta -chemical:exclude_patches LowerDNA UpperDNA Cterm_amidation SpecialRotamer VirtualBB ShoveBB VirtualDNAPhosphate VirtualNTerm CTermConnect sc_orbitals pro_hydroxylated_case1 pro_hydroxylated_case2 ser_phosphorylated thr_phosphorylated tyr_phosphorylated tyr_sulfated lys_dimethylated lys_monomethylated lys_trimethylated lys_acetylated glu_carboxylated cys_acetylated tyr_diiodinated N_acetylated C_methylamidated MethylatedProteinCterm -ex1 -ex2 -ignore_unrecognized_res 1 -extra_res_fa /share/siegellab/youtian/Han_Li/GapN/libBenefical5/input/G3H.params input/X00.params -run:preserve_header T -database /share/siegellab/youtian/anaconda3/lib/python3.6/site-packages/pyrosetta/database\n",
      "\u001b[0mcore.init: \u001b[0m'RNG device' seed mode, using '/dev/urandom', seed=650281238 seed_offset=0 real_seed=650281238\n",
      "\u001b[0mcore.init.random: \u001b[0mRandomGenerator:init: Normal mode, seed=650281238 RG_type=mt19937\n",
      "\u001b[0mcore.chemical.GlobalResidueTypeSet: \u001b[0mWhile generating GlobalResidueTypeSet fa_standard: Skipping patch LowerDNA as requested\n",
      "\u001b[0mcore.chemical.GlobalResidueTypeSet: \u001b[0mWhile generating GlobalResidueTypeSet fa_standard: Skipping patch UpperDNA as requested\n",
      "\u001b[0mcore.chemical.GlobalResidueTypeSet: \u001b[0mWhile generating GlobalResidueTypeSet fa_standard: Skipping patch VirtualDNAPhosphate as requested\n",
      "\u001b[0mcore.chemical.GlobalResidueTypeSet: \u001b[0mWhile generating GlobalResidueTypeSet fa_standard: Skipping patch ShoveBB as requested\n",
      "\u001b[0mcore.chemical.GlobalResidueTypeSet: \u001b[0mWhile generating GlobalResidueTypeSet fa_standard: Skipping patch VirtualBB as requested\n",
      "\u001b[0mcore.chemical.GlobalResidueTypeSet: \u001b[0mWhile generating GlobalResidueTypeSet fa_standard: Skipping patch N_acetylated as requested\n",
      "\u001b[0mcore.chemical.GlobalResidueTypeSet: \u001b[0mWhile generating GlobalResidueTypeSet fa_standard: Skipping patch C_methylamidated as requested\n",
      "\u001b[0mcore.chemical.GlobalResidueTypeSet: \u001b[0mWhile generating GlobalResidueTypeSet fa_standard: Skipping patch SpecialRotamer as requested\n",
      "\u001b[0mcore.chemical.GlobalResidueTypeSet: \u001b[0mWhile generating GlobalResidueTypeSet fa_standard: Skipping patch Cterm_amidation as requested\n",
      "\u001b[0mcore.chemical.GlobalResidueTypeSet: \u001b[0mWhile generating GlobalResidueTypeSet fa_standard: Skipping patch pro_hydroxylated_case1 as requested\n",
      "\u001b[0mcore.chemical.GlobalResidueTypeSet: \u001b[0mWhile generating GlobalResidueTypeSet fa_standard: Skipping patch pro_hydroxylated_case2 as requested\n",
      "\u001b[0mcore.chemical.GlobalResidueTypeSet: \u001b[0mWhile generating GlobalResidueTypeSet fa_standard: Skipping patch ser_phosphorylated as requested\n",
      "\u001b[0mcore.chemical.GlobalResidueTypeSet: \u001b[0mWhile generating GlobalResidueTypeSet fa_standard: Skipping patch thr_phosphorylated as requested\n",
      "\u001b[0mcore.chemical.GlobalResidueTypeSet: \u001b[0mWhile generating GlobalResidueTypeSet fa_standard: Skipping patch tyr_phosphorylated as requested\n",
      "\u001b[0mcore.chemical.GlobalResidueTypeSet: \u001b[0mWhile generating GlobalResidueTypeSet fa_standard: Skipping patch tyr_sulfated as requested\n",
      "\u001b[0mcore.chemical.GlobalResidueTypeSet: \u001b[0mWhile generating GlobalResidueTypeSet fa_standard: Skipping patch lys_monomethylated as requested\n",
      "\u001b[0mcore.chemical.GlobalResidueTypeSet: \u001b[0mWhile generating GlobalResidueTypeSet fa_standard: Skipping patch lys_dimethylated as requested\n",
      "\u001b[0mcore.chemical.GlobalResidueTypeSet: \u001b[0mWhile generating GlobalResidueTypeSet fa_standard: Skipping patch lys_trimethylated as requested\n",
      "\u001b[0mcore.chemical.GlobalResidueTypeSet: \u001b[0mWhile generating GlobalResidueTypeSet fa_standard: Skipping patch lys_acetylated as requested\n",
      "\u001b[0mcore.chemical.GlobalResidueTypeSet: \u001b[0mWhile generating GlobalResidueTypeSet fa_standard: Skipping patch glu_carboxylated as requested\n",
      "\u001b[0mcore.chemical.GlobalResidueTypeSet: \u001b[0mWhile generating GlobalResidueTypeSet fa_standard: Skipping patch cys_acetylated as requested\n",
      "\u001b[0mcore.chemical.GlobalResidueTypeSet: \u001b[0mWhile generating GlobalResidueTypeSet fa_standard: Skipping patch tyr_diiodinated as requested\n",
      "\u001b[0mcore.chemical.GlobalResidueTypeSet: \u001b[0mWhile generating GlobalResidueTypeSet fa_standard: Skipping patch MethylatedProteinCterm as requested\n",
      "\u001b[0mcore.chemical.GlobalResidueTypeSet: \u001b[0mFinished initializing fa_standard residue type set.  Created 981 residue types\n",
      "\u001b[0mcore.chemical.GlobalResidueTypeSet: \u001b[0mTotal time to initialize 3.30014 seconds.\n",
      "\u001b[0mcore.import_pose.import_pose: \u001b[0mFile '/share/siegellab/youtian/Han_Li/GapN/libBenefical5/input/newP179K-F153S-S330R-I234E_G210Q.pdb' automatically determined to be of type PDB\n"
     ]
    }
   ],
   "source": [
    "pdb_filename = os.path.join(os.getcwd(), \"input/newP179K-F153S-S330R-I234E_G210Q.pdb\")\n",
    "ligand_params = os.path.join(os.getcwd(), \"input/G3H.params input/X00.params\")\n",
    "pyrosetta.init(\"-chemical:exclude_patches LowerDNA UpperDNA Cterm_amidation SpecialRotamer VirtualBB ShoveBB VirtualDNAPhosphate VirtualNTerm CTermConnect sc_orbitals pro_hydroxylated_case1 pro_hydroxylated_case2 ser_phosphorylated thr_phosphorylated tyr_phosphorylated tyr_sulfated lys_dimethylated lys_monomethylated lys_trimethylated lys_acetylated glu_carboxylated cys_acetylated tyr_diiodinated N_acetylated C_methylamidated MethylatedProteinCterm -ex1 -ex2 -ignore_unrecognized_res 1 -extra_res_fa {} -run:preserve_header T\".format(ligand_params))\n",
    "pose = pyrosetta.io.pose_from_file(filename=pdb_filename)\n",
    "#pssmfile = os.path.join(os.getcwd(), \"input/gapNPositive.pssm\")"
   ]
  },
  {
   "cell_type": "code",
   "execution_count": 3,
   "metadata": {
    "scrolled": true
   },
   "outputs": [
    {
     "data": {
      "text/plain": [
       "'TKQYKNYVNGEWKLSENEIKIYEPASGAELGSVPAMSTEEVDYVYASAKKAQPAWRALSYIERAAYLHKVADILMRDKEKIGAILSKEVAKGYKSAVSEVVRTAEIINYAAEEGLRMEGEVLEGGSFEAASKKKIAVVRREPVGLVLAISPSNYPVNLAGSKIAPALIAGNVIAFKPKTQGSISGLLLAEAFAEAGLPAGVFNTITGRQSEIGDYIVEHQAVNFINFTGSTGEGERIGKMAGMRPIMLELGGKDSAIVLEDADLELTAKNIIAGAFGYSGQRCTAVKRVLVMESVADELVEKIREKVLALTIGNPEDDADITPLIDTKRADYVEGLINDANDKGATALTEIKREGNLICPILFDKVTTDMRLAWEEPFGPVLPIIRVTSVEEAIEISNKSEYGLQASIFTNDFPRAFGIAEQLEVGTVHINNKTQRGTDNFPFLGAKKSGAGIQGVKYSIEAMTTVKSVVFDIKZZ'"
      ]
     },
     "execution_count": 3,
     "metadata": {},
     "output_type": "execute_result"
    }
   ],
   "source": [
    "pose.sequence()"
   ]
  },
  {
   "cell_type": "code",
   "execution_count": 4,
   "metadata": {
    "scrolled": false
   },
   "outputs": [
    {
     "data": {
      "text/plain": [
       "True"
      ]
     },
     "execution_count": 4,
     "metadata": {},
     "output_type": "execute_result"
    }
   ],
   "source": [
    "pyrosetta.rosetta.basic.options.get_boolean_option(\"run:preserve_header\")"
   ]
  },
  {
   "cell_type": "code",
   "execution_count": 5,
   "metadata": {},
   "outputs": [
    {
     "data": {
      "text/plain": [
       "'/share/siegellab/youtian/Han_Li/GapN/libBenefical5'"
      ]
     },
     "execution_count": 5,
     "metadata": {},
     "output_type": "execute_result"
    }
   ],
   "source": [
    "os.getcwd()"
   ]
  },
  {
   "cell_type": "code",
   "execution_count": 6,
   "metadata": {
    "scrolled": true
   },
   "outputs": [
    {
     "name": "stderr",
     "output_type": "stream",
     "text": [
      "INFO:rosetta:\u001b[0mcore.scoring.etable: \u001b[0mStarting energy table calculation\n",
      "INFO:rosetta:\u001b[0mcore.scoring.etable: \u001b[0msmooth_etable: changing atr/rep split to bottom of energy well\n",
      "INFO:rosetta:\u001b[0mcore.scoring.etable: \u001b[0msmooth_etable: spline smoothing lj etables (maxdis = 6)\n",
      "INFO:rosetta:\u001b[0mcore.scoring.etable: \u001b[0msmooth_etable: spline smoothing solvation etables (max_dis = 6)\n",
      "INFO:rosetta:\u001b[0mcore.scoring.etable: \u001b[0mFinished calculating energy tables.\n",
      "INFO:rosetta:\u001b[0mbasic.io.database: \u001b[0mDatabase file opened: scoring/score_functions/PairEPotential/pdb_pair_stats_fine\n",
      "INFO:rosetta:\u001b[0mbasic.io.database: \u001b[0mDatabase file opened: scoring/score_functions/hbonds/ref2015_params/HBPoly1D.csv\n",
      "INFO:rosetta:\u001b[0mbasic.io.database: \u001b[0mDatabase file opened: scoring/score_functions/hbonds/ref2015_params/HBFadeIntervals.csv\n",
      "INFO:rosetta:\u001b[0mbasic.io.database: \u001b[0mDatabase file opened: scoring/score_functions/hbonds/ref2015_params/HBEval.csv\n",
      "INFO:rosetta:\u001b[0mbasic.io.database: \u001b[0mDatabase file opened: scoring/score_functions/hbonds/ref2015_params/DonStrength.csv\n",
      "INFO:rosetta:\u001b[0mbasic.io.database: \u001b[0mDatabase file opened: scoring/score_functions/hbonds/ref2015_params/AccStrength.csv\n",
      "INFO:rosetta:\u001b[0mcore.scoring.ramachandran: \u001b[0mshapovalov_lib::shap_rama_smooth_level of 4( aka highest_smooth ) got activated.\n",
      "INFO:rosetta:\u001b[0mbasic.io.database: \u001b[0mDatabase file opened: scoring/score_functions/rama/shapovalov/kappa25/all.ramaProb\n",
      "INFO:rosetta:\u001b[0mbasic.io.database: \u001b[0mDatabase file opened: scoring/score_functions/rama/flat/avg_L_rama.dat\n",
      "INFO:rosetta:\u001b[0mcore.scoring.ramachandran: \u001b[0mReading custom Ramachandran table from scoring/score_functions/rama/flat/avg_L_rama.dat.\n",
      "INFO:rosetta:\u001b[0mbasic.io.database: \u001b[0mDatabase file opened: scoring/score_functions/rama/flat/sym_all_rama.dat\n",
      "INFO:rosetta:\u001b[0mcore.scoring.ramachandran: \u001b[0mReading custom Ramachandran table from scoring/score_functions/rama/flat/sym_all_rama.dat.\n",
      "INFO:rosetta:\u001b[0mbasic.io.database: \u001b[0mDatabase file opened: scoring/score_functions/rama/flat/sym_G_rama.dat\n",
      "INFO:rosetta:\u001b[0mcore.scoring.ramachandran: \u001b[0mReading custom Ramachandran table from scoring/score_functions/rama/flat/sym_G_rama.dat.\n",
      "INFO:rosetta:\u001b[0mbasic.io.database: \u001b[0mDatabase file opened: scoring/score_functions/rama/flat/sym_P_rama.dat\n",
      "INFO:rosetta:\u001b[0mcore.scoring.ramachandran: \u001b[0mReading custom Ramachandran table from scoring/score_functions/rama/flat/sym_P_rama.dat.\n",
      "INFO:rosetta:\u001b[0mbasic.io.database: \u001b[0mDatabase file opened: scoring/score_functions/rama/flat/avg_L_rama_str.dat\n",
      "INFO:rosetta:\u001b[0mcore.scoring.ramachandran: \u001b[0mReading custom Ramachandran table from scoring/score_functions/rama/flat/avg_L_rama_str.dat.\n",
      "INFO:rosetta:\u001b[0mbasic.io.database: \u001b[0mDatabase file opened: scoring/score_functions/rama/flat/sym_all_rama_str.dat\n",
      "INFO:rosetta:\u001b[0mcore.scoring.ramachandran: \u001b[0mReading custom Ramachandran table from scoring/score_functions/rama/flat/sym_all_rama_str.dat.\n",
      "INFO:rosetta:\u001b[0mbasic.io.database: \u001b[0mDatabase file opened: scoring/score_functions/rama/flat/sym_G_rama_str.dat\n",
      "INFO:rosetta:\u001b[0mcore.scoring.ramachandran: \u001b[0mReading custom Ramachandran table from scoring/score_functions/rama/flat/sym_G_rama_str.dat.\n",
      "INFO:rosetta:\u001b[0mbasic.io.database: \u001b[0mDatabase file opened: scoring/score_functions/rama/flat/sym_P_rama_str.dat\n",
      "INFO:rosetta:\u001b[0mcore.scoring.ramachandran: \u001b[0mReading custom Ramachandran table from scoring/score_functions/rama/flat/sym_P_rama_str.dat.\n",
      "INFO:rosetta:\u001b[0mbasic.io.database: \u001b[0mDatabase file opened: scoring/score_functions/omega/omega_ppdep.all.txt\n",
      "INFO:rosetta:\u001b[0mbasic.io.database: \u001b[0mDatabase file opened: scoring/score_functions/omega/omega_ppdep.gly.txt\n",
      "INFO:rosetta:\u001b[0mbasic.io.database: \u001b[0mDatabase file opened: scoring/score_functions/omega/omega_ppdep.pro.txt\n",
      "INFO:rosetta:\u001b[0mbasic.io.database: \u001b[0mDatabase file opened: scoring/score_functions/omega/omega_ppdep.valile.txt\n",
      "INFO:rosetta:\u001b[0mbasic.io.database: \u001b[0mDatabase file opened: scoring/score_functions/P_AA_pp/P_AA\n",
      "INFO:rosetta:\u001b[0mbasic.io.database: \u001b[0mDatabase file opened: scoring/score_functions/P_AA_pp/P_AA_n\n",
      "INFO:rosetta:\u001b[0mcore.scoring.P_AA: \u001b[0mshapovalov_lib::shap_p_aa_pp_smooth_level of 1( aka low_smooth ) got activated.\n",
      "INFO:rosetta:\u001b[0mbasic.io.database: \u001b[0mDatabase file opened: scoring/score_functions/P_AA_pp/shapovalov/10deg/kappa131/a20.prop\n",
      "INFO:rosetta:\u001b[0mbasic.io.database: \u001b[0mDatabase file opened: scoring/score_functions/envsmooth/envdata.txt\n",
      "INFO:rosetta:\u001b[0mbasic.io.database: \u001b[0mDatabase file opened: scoring/score_functions/carbon_hbond/ch_o_bond_potential.dat\n",
      "INFO:rosetta:\u001b[0mbasic.io.database: \u001b[0mDatabase file opened: scoring/score_functions/custom_pair_distance/pos_charge_repulsion\n",
      "INFO:rosetta:\u001b[0mbasic.io.database: \u001b[0mDatabase file opened: scoring/score_functions/custom_pair_distance/neg_charge_repulsion\n",
      "INFO:rosetta:\u001b[0mcore.scoring.custom_pair_distance.FullatomCustomPairDistanceEnergy: \u001b[0mAdded 8 AtomPairFuncList lists\n"
     ]
    }
   ],
   "source": [
    "sfxn = pyrosetta.create_score_function(\"enzdes.wts\")"
   ]
  },
  {
   "cell_type": "code",
   "execution_count": 7,
   "metadata": {
    "scrolled": true
   },
   "outputs": [
    {
     "name": "stdout",
     "output_type": "stream",
     "text": [
      "PDB file name: /share/siegellab/youtian/Han_Li/GapN/libBenefical5/input/newP179K-F153S-S330R-I234E_G210Q.pdb\n",
      "Total residues:476\n",
      "Sequence: TKQYKNYVNGEWKLSENEIKIYEPASGAELGSVPAMSTEEVDYVYASAKKAQPAWRALSYIERAAYLHKVADILMRDKEKIGAILSKEVAKGYKSAVSEVVRTAEIINYAAEEGLRMEGEVLEGGSFEAASKKKIAVVRREPVGLVLAISPSNYPVNLAGSKIAPALIAGNVIAFKPKTQGSISGLLLAEAFAEAGLPAGVFNTITGRQSEIGDYIVEHQAVNFINFTGSTGEGERIGKMAGMRPIMLELGGKDSAIVLEDADLELTAKNIIAGAFGYSGQRCTAVKRVLVMESVADELVEKIREKVLALTIGNPEDDADITPLIDTKRADYVEGLINDANDKGATALTEIKREGNLICPILFDKVTTDMRLAWEEPFGPVLPIIRVTSVEEAIEISNKSEYGLQASIFTNDFPRAFGIAEQLEVGTVHINNKTQRGTDNFPFLGAKKSGAGIQGVKYSIEAMTTVKSVVFDIKZZ\n",
      "Fold tree:\n",
      "FOLD_TREE  EDGE 1 474 -1  EDGE 1 475 1  EDGE 1 476 2 \n"
     ]
    }
   ],
   "source": [
    "len(pose.sequence())\n",
    "print(pose)"
   ]
  },
  {
   "cell_type": "code",
   "execution_count": 8,
   "metadata": {
    "scrolled": false
   },
   "outputs": [
    {
     "name": "stdout",
     "output_type": "stream",
     "text": [
      "FOLD_TREE  EDGE 1 474 -1  EDGE 1 475 1  EDGE 1 476 2 \n"
     ]
    }
   ],
   "source": [
    "print(pose.fold_tree())"
   ]
  },
  {
   "cell_type": "code",
   "execution_count": 9,
   "metadata": {},
   "outputs": [
    {
     "name": "stdout",
     "output_type": "stream",
     "text": [
      "X00\n",
      "30.416, 121.238, -18.797\n",
      " O5 \n",
      " C2 \n",
      " C1 \n",
      " O4 \n",
      " P1 \n",
      " O1 \n",
      " O2 \n",
      " O3 \n",
      " C3 \n",
      " O6 \n",
      " C4 \n",
      " O7 \n",
      " C5 \n",
      " N1 \n",
      " C6 \n",
      " C7 \n",
      " C8 \n",
      " O8 \n",
      " N2 \n",
      " C9 \n",
      " C10\n",
      " C11\n"
     ]
    }
   ],
   "source": [
    "NMN = pose.residue(475)\n",
    "print(NMN.name())\n",
    "print(NMN.atom('P1'))\n",
    "for atomnum in range(1,len(NMN.atoms()) + 1):\n",
    "    print(NMN.atom_name(atomnum))"
   ]
  },
  {
   "cell_type": "code",
   "execution_count": 10,
   "metadata": {},
   "outputs": [],
   "source": [
    "#positive mutations: newP179K-F153S-S330R-I234E_G210Q"
   ]
  },
  {
   "cell_type": "code",
   "execution_count": 11,
   "metadata": {
    "scrolled": true
   },
   "outputs": [
    {
     "name": "stdout",
     "output_type": "stream",
     "text": [
      "329A,152A,178A,233A,209A\n"
     ]
    }
   ],
   "source": [
    "#print(pose.residue(pose.pdb_info().pdb2pose('A',330)))\n",
    "resnum = \"%sA,%sA,%sA,%sA,%sA\" % (pose.pdb_info().pdb2pose('A',330),pose.pdb_info().pdb2pose('A',153),pose.pdb_info().pdb2pose('A',179),pose.pdb_info().pdb2pose('A',234), pose.pdb_info().pdb2pose('A',210))\n",
    "print(resnum)"
   ]
  },
  {
   "cell_type": "code",
   "execution_count": 12,
   "metadata": {},
   "outputs": [],
   "source": [
    "string = (\"\"\"\n",
    "<ROSETTASCRIPTS>\n",
    "      <SCOREFXNS>\n",
    "                <ScoreFunction name=\"myscore\" weights=\"enzdes.wts\"/> \n",
    "      </SCOREFXNS>\n",
    "      <RESIDUE_SELECTORS>\n",
    "          <Chain name=\"chX\" chains=\"X\"/>\n",
    "      </RESIDUE_SELECTORS>\n",
    "      <SCORINGGRIDS ligand_chain=\"X\" width=\"15\">\n",
    "          <ClassicGrid grid_name=\"vdw\" weight=\"1.0\"/>\n",
    "      </SCORINGGRIDS>\n",
    "      <SIMPLE_METRICS>\n",
    "          <RMSDMetric name=\"rmsd_chX\" residue_selector=\"chX\" reference_name=\"store_native\" residue_selector_ref=\"chX\" robust=\"true\" rmsd_type=\"rmsd_all\" />\n",
    "      </SIMPLE_METRICS>\n",
    "      <TASKOPERATIONS>\n",
    "            #DetectProteinLigandInterface name=\"edto\" resfile=\"5eujArgPolar.resfile\" design=\"1\" cut1=\"0.0\" cut2=\"0.0\" cut3=\"0.0\" cut4=\"12.0\"\n",
    "            <DetectProteinLigandInterface name=\"edto_repack\" design=\"0\" cut1=\"6.0\" cut2=\"8.0\" cut3=\"10.0\" cut4=\"12.0\"/>\n",
    "            <DetectProteinLigandInterface name=\"edto2\" design=\"1\" cut1=\"6.0\" cut2=\"8.0\" cut3=\"10.0\" cut4=\"12.0\"/>\n",
    "            <LimitAromaChi2 name=\"limchi2\"/>\n",
    "            <SetCatalyticResPackBehavior name=\"catres\" fix_catalytic_aa=\"0\"/>\n",
    "            <ProteinLigandInterfaceUpweighter name=\"up\" interface_weight=\"1.5\"/>\n",
    "            <DesignAround name=\"DeAround\" design_shell=\"6.0\" resnums=\"%s\" repack_shell=\"6.0\" allow_design=\"1\" />\n",
    "      </TASKOPERATIONS>\n",
    "      <FILTERS>\n",
    "                <EnzScore name=\"allcst\" score_type=\"cstE\" scorefxn=\"myscore\" whole_pose=\"1\" energy_cutoff=\"400\"/> \n",
    "                <LigInterfaceEnergy name=\"interfE\" scorefxn=\"myscore\" energy_cutoff=\"1000\" confidence=\"0\"/>\n",
    "                <SimpleMetricFilter name=\"rmsd_chX\" metric=\"rmsd_chX\" cutoff=\"999999.\" comparison_type=\"lt\" confidence=\"0\"/>\n",
    "       </FILTERS>\n",
    "       <MOVERS>\n",
    "             <AddOrRemoveMatchCsts name=\"cstadd\" cst_instruction=\"add_new\" />\n",
    "            <Transform name=\"transform\" chain=\"X\" box_size=\"7.0\" move_distance=\"0.1\" angle=\"40\" initial_perturb=\"2\" cycles=\"500\" repeats=\"1\" temperature=\"5\"/>\n",
    "             <FavorNativeResidue name=\"fnr\" bonus=\"0.75\"/>\n",
    "<EnzRepackMinimize name=\"cstopt\" cst_opt=\"1\" minimize_rb=\"1\" minimize_sc=\"1\" minimize_bb=\"0\" cycles=\"2\" min_in_stages=\"0\" minimize_lig=\"1\" rb_min_jumps=\"2\" task_operations=\"up,edto2,limchi2,catres\"/>\n",
    "<EnzRepackMinimize name=\"design_wbb\" design=\"1\" repack_only=\"0\" scorefxn_minimize=\"myscore\" scorefxn_repack=\"soft_rep\" minimize_rb=\"1\" rb_min_jumps=\"2\"  minimize_sc=\"1\" minimize_bb=\"0\" cycles=\"1\" minimize_lig=\"1\" min_in_stages=\"0\" backrub=\"0\" task_operations=\"up,edto2,limchi2,catres,DeAround\"/>\n",
    "<EnzRepackMinimize name=\"repack_nobb\" design=\"0\" repack_only=\"1\" scorefxn_minimize=\"myscore\" scorefxn_repack=\"soft_rep\" minimize_rb=\"1\" rb_min_jumps=\"2\"  minimize_sc=\"1\" minimize_bb=\"0\" cycles=\"1\" minimize_lig=\"1\" min_in_stages=\"0\" backrub=\"0\" task_operations=\"up,edto_repack,limchi2,catres\"/>\n",
    "<EnzRepackMinimize name=\"repack_wbb\" design=\"0\" repack_only=\"1\" scorefxn_minimize=\"myscore\" scorefxn_repack=\"soft_rep\" minimize_rb=\"1\" rb_min_jumps=\"2\"  minimize_sc=\"1\" minimize_bb=\"0\" cycles=\"1\" minimize_lig=\"1\" min_in_stages=\"0\" backrub=\"0\" task_operations=\"up,edto_repack,limchi2,catres\"/> \n",
    "<EnzRepackMinimize name=\"min\" design=\"0\" repack_only=\"0\" scorefxn_minimize=\"myscore\" scorefxn_repack=\"soft_rep\" minimize_rb=\"1\" rb_min_jumps=\"1\"  minimize_sc=\"1\" minimize_bb=\"0\" cycles=\"1\" minimize_lig=\"1\" min_in_stages=\"0\" backrub=\"0\" task_operations=\"up,edto_repack,limchi2,catres\"/>\n",
    "             PDBTrajectoryRecorder name=\"pdb_traj_recorder\" stride=\"1\" filename=\"traj.pdb\" cumulate_jobs=\"0\" cumulate_replicas=\"0\"/\n",
    "             PDBTrajectoryRecorder name=\"pdb_traj_recorder_accepted\" stride=\"1\" filename=\"traj_accepted.pdb\" cumulate_jobs=\"0\"\n",
    "             <PredesignPerturbMover name=\"predock\" trans_magnitude=\"0.1\" rot_magnitude=\"1\" dock_trials=\"500\"/>\n",
    "             <ParsedProtocol name=\"dock_pack\">\n",
    "                Add mover=\"pdb_traj_recorder\"\n",
    "                <Add mover=\"predock\"/>\n",
    "                <Add mover=\"cstopt\"/>\n",
    "                <Add mover=\"design_wbb\"/>\n",
    "                <Add mover=\"repack_nobb\"/>\n",
    "                <Add mover=\"min\"/>\n",
    "                Add mover=\"pdb_traj_recorder_accepted\"\n",
    "             </ParsedProtocol>\n",
    "             <GenericMonteCarlo name=\"interactive_dp\" mover_name=\"dock_pack\" scorefxn_name=\"myscore\" trials=\"4\" sample_type=\"low\" temperature=\"0.6\" drift=\"1\"/>\n",
    "             <FastRelax name=\"fastrelax\" scorefxn=\"myscore\" task_operations=\"edto_repack\"/>\n",
    "             FilterReportAsPoseExtraScoresMover name=\"report\" report_as=\"constraint\" filter_name=\"allcst\"\n",
    "             <BackrubDD name=\"backrub\" moves=\"1000\">\n",
    "             </BackrubDD>\n",
    "             <FavorSequenceProfile name=\"FSP\" pssm=\"%s\" scaling=\"none\" scorefxns=\"myscore\" weight=\"1\"/>\n",
    "      </MOVERS>\n",
    "      <PROTOCOLS>\n",
    "              <Add mover_name=\"cstadd\"/>\n",
    "              <Add mover_name=\"FSP\"/>\n",
    "              <Add mover_name=\"backrub\"/>\n",
    "              <Add mover_name=\"transform\"/>\n",
    "              <Add mover=\"interactive_dp\"/>\n",
    "              Add mover=\"fastrelax\"\n",
    "              <Add filter_name=\"allcst\"/>\n",
    "              <Add filter_name=\"interfE\"/>\n",
    "              Add mover_name=\"report\"\n",
    "              Add filter_name=\"rmsd_chX\"\n",
    "      </PROTOCOLS>\n",
    "</ROSETTASCRIPTS>\n",
    "\"\"\") % (resnum,pssmfile)"
   ]
  },
  {
   "cell_type": "code",
   "execution_count": 13,
   "metadata": {
    "scrolled": true
   },
   "outputs": [
    {
     "name": "stderr",
     "output_type": "stream",
     "text": [
      "INFO:rosetta:\u001b[0mprotocols.rosetta_scripts.RosettaScriptsParser: \u001b[0mGenerating XML Schema for rosetta_scripts...\n",
      "INFO:rosetta:\u001b[0mprotocols.rosetta_scripts.RosettaScriptsParser: \u001b[0m...done\n",
      "INFO:rosetta:\u001b[0mprotocols.rosetta_scripts.RosettaScriptsParser: \u001b[0mInitializing schema validator...\n",
      "INFO:rosetta:\u001b[0mprotocols.rosetta_scripts.RosettaScriptsParser: \u001b[0m...done\n",
      "INFO:rosetta:\u001b[0mprotocols.rosetta_scripts.RosettaScriptsParser: \u001b[0mValidating input script...\n",
      "INFO:rosetta:\u001b[0mprotocols.rosetta_scripts.RosettaScriptsParser: \u001b[0m...done\n",
      "INFO:rosetta:\u001b[0mprotocols.rosetta_scripts.RosettaScriptsParser: \u001b[0mParsed script:\n",
      "<ROSETTASCRIPTS>\n",
      "\t<SCOREFXNS>\n",
      "\t\t<ScoreFunction name=\"myscore\" weights=\"enzdes.wts\"/>\n",
      "\t</SCOREFXNS>\n",
      "\t<RESIDUE_SELECTORS>\n",
      "\t\t<Chain chains=\"X\" name=\"chX\"/>\n",
      "\t</RESIDUE_SELECTORS>\n",
      "\t<SCORINGGRIDS ligand_chain=\"X\" width=\"15\">\n",
      "\t\t<ClassicGrid grid_name=\"vdw\" weight=\"1.0\"/>\n",
      "\t</SCORINGGRIDS>\n",
      "\t<SIMPLE_METRICS>\n",
      "\t\t<RMSDMetric name=\"rmsd_chX\" reference_name=\"store_native\" residue_selector=\"chX\" residue_selector_ref=\"chX\" rmsd_type=\"rmsd_all\" robust=\"true\"/>\n",
      "\t</SIMPLE_METRICS>\n",
      "\t<TASKOPERATIONS>\n",
      "\t\t<DetectProteinLigandInterface cut1=\"6.0\" cut2=\"8.0\" cut3=\"10.0\" cut4=\"12.0\" design=\"0\" name=\"edto_repack\"/>\n",
      "\t\t<DetectProteinLigandInterface cut1=\"6.0\" cut2=\"8.0\" cut3=\"10.0\" cut4=\"12.0\" design=\"1\" name=\"edto2\"/>\n",
      "\t\t<LimitAromaChi2 name=\"limchi2\"/>\n",
      "\t\t<SetCatalyticResPackBehavior fix_catalytic_aa=\"0\" name=\"catres\"/>\n",
      "\t\t<ProteinLigandInterfaceUpweighter interface_weight=\"1.5\" name=\"up\"/>\n",
      "\t\t<DesignAround allow_design=\"1\" design_shell=\"6.0\" name=\"DeAround\" repack_shell=\"6.0\" resnums=\"329A,152A,178A,233A,209A\"/>\n",
      "\t</TASKOPERATIONS>\n",
      "\t<FILTERS>\n",
      "\t\t<EnzScore energy_cutoff=\"400\" name=\"allcst\" score_type=\"cstE\" scorefxn=\"myscore\" whole_pose=\"1\"/>\n",
      "\t\t<LigInterfaceEnergy confidence=\"0\" energy_cutoff=\"1000\" name=\"interfE\" scorefxn=\"myscore\"/>\n",
      "\t\t<SimpleMetricFilter comparison_type=\"lt\" confidence=\"0\" cutoff=\"999999.\" metric=\"rmsd_chX\" name=\"rmsd_chX\"/>\n",
      "\t</FILTERS>\n",
      "\t<MOVERS>\n",
      "\t\t<AddOrRemoveMatchCsts cst_instruction=\"add_new\" name=\"cstadd\"/>\n",
      "\t\t<Transform angle=\"40\" box_size=\"7.0\" chain=\"X\" cycles=\"500\" initial_perturb=\"2\" move_distance=\"0.1\" name=\"transform\" repeats=\"1\" temperature=\"5\"/>\n",
      "\t\t<FavorNativeResidue bonus=\"0.75\" name=\"fnr\"/>\n",
      "\t\t<EnzRepackMinimize cst_opt=\"1\" cycles=\"2\" min_in_stages=\"0\" minimize_bb=\"0\" minimize_lig=\"1\" minimize_rb=\"1\" minimize_sc=\"1\" name=\"cstopt\" rb_min_jumps=\"2\" task_operations=\"up,edto2,limchi2,catres\"/>\n",
      "\t\t<EnzRepackMinimize backrub=\"0\" cycles=\"1\" design=\"1\" min_in_stages=\"0\" minimize_bb=\"0\" minimize_lig=\"1\" minimize_rb=\"1\" minimize_sc=\"1\" name=\"design_wbb\" rb_min_jumps=\"2\" repack_only=\"0\" scorefxn_minimize=\"myscore\" scorefxn_repack=\"soft_rep\" task_operations=\"up,edto2,limchi2,catres,DeAround\"/>\n",
      "\t\t<EnzRepackMinimize backrub=\"0\" cycles=\"1\" design=\"0\" min_in_stages=\"0\" minimize_bb=\"0\" minimize_lig=\"1\" minimize_rb=\"1\" minimize_sc=\"1\" name=\"repack_nobb\" rb_min_jumps=\"2\" repack_only=\"1\" scorefxn_minimize=\"myscore\" scorefxn_repack=\"soft_rep\" task_operations=\"up,edto_repack,limchi2,catres\"/>\n",
      "\t\t<EnzRepackMinimize backrub=\"0\" cycles=\"1\" design=\"0\" min_in_stages=\"0\" minimize_bb=\"0\" minimize_lig=\"1\" minimize_rb=\"1\" minimize_sc=\"1\" name=\"repack_wbb\" rb_min_jumps=\"2\" repack_only=\"1\" scorefxn_minimize=\"myscore\" scorefxn_repack=\"soft_rep\" task_operations=\"up,edto_repack,limchi2,catres\"/>\n",
      "\t\t<EnzRepackMinimize backrub=\"0\" cycles=\"1\" design=\"0\" min_in_stages=\"0\" minimize_bb=\"0\" minimize_lig=\"1\" minimize_rb=\"1\" minimize_sc=\"1\" name=\"min\" rb_min_jumps=\"1\" repack_only=\"0\" scorefxn_minimize=\"myscore\" scorefxn_repack=\"soft_rep\" task_operations=\"up,edto_repack,limchi2,catres\"/>\n",
      "\t\t<PredesignPerturbMover dock_trials=\"500\" name=\"predock\" rot_magnitude=\"1\" trans_magnitude=\"0.1\"/>\n",
      "\t\t<ParsedProtocol name=\"dock_pack\">\n",
      "\t\t\t<Add mover=\"predock\"/>\n",
      "\t\t\t<Add mover=\"cstopt\"/>\n",
      "\t\t\t<Add mover=\"design_wbb\"/>\n",
      "\t\t\t<Add mover=\"repack_nobb\"/>\n",
      "\t\t\t<Add mover=\"min\"/>\n",
      "\t\t</ParsedProtocol>\n",
      "\t\t<GenericMonteCarlo drift=\"1\" mover_name=\"dock_pack\" name=\"interactive_dp\" sample_type=\"low\" scorefxn_name=\"myscore\" temperature=\"0.6\" trials=\"4\"/>\n",
      "\t\t<FastRelax name=\"fastrelax\" scorefxn=\"myscore\" task_operations=\"edto_repack\"/>\n",
      "\t\t<BackrubDD moves=\"1000\" name=\"backrub\"/>\n",
      "\t\t<FavorSequenceProfile name=\"FSP\" pssm=\"/share/siegellab/youtian/Han_Li/GapN/libBenefical5/input/gapNPositive.pssm\" scaling=\"none\" scorefxns=\"myscore\" weight=\"1\"/>\n",
      "\t</MOVERS>\n",
      "\t<PROTOCOLS>\n",
      "\t\t<Add mover_name=\"cstadd\"/>\n",
      "\t\t<Add mover_name=\"FSP\"/>\n",
      "\t\t<Add mover_name=\"backrub\"/>\n",
      "\t\t<Add mover_name=\"transform\"/>\n",
      "\t\t<Add mover=\"interactive_dp\"/>\n",
      "\t\t<Add filter_name=\"allcst\"/>\n",
      "\t\t<Add filter_name=\"interfE\"/>\n",
      "\t</PROTOCOLS>\n",
      "</ROSETTASCRIPTS>\n",
      "INFO:rosetta:\u001b[0mcore.scoring.ScoreFunctionFactory: \u001b[0mSCOREFUNCTION: \u001b[32mref2015\u001b[0m\n",
      "INFO:rosetta:\u001b[0mbasic.io.database: \u001b[0mDatabase file opened: scoring/score_functions/rama/fd/all.ramaProb\n",
      "INFO:rosetta:\u001b[0mbasic.io.database: \u001b[0mDatabase file opened: scoring/score_functions/rama/fd/prepro.ramaProb\n",
      "INFO:rosetta:\u001b[0mcore.scoring.etable: \u001b[0mStarting energy table calculation\n",
      "INFO:rosetta:\u001b[0mcore.scoring.etable: \u001b[0msmooth_etable: changing atr/rep split to bottom of energy well\n",
      "INFO:rosetta:\u001b[0mcore.scoring.etable: \u001b[0msmooth_etable: spline smoothing lj etables (maxdis = 6)\n",
      "INFO:rosetta:\u001b[0mcore.scoring.etable: \u001b[0msmooth_etable: spline smoothing solvation etables (max_dis = 6)\n",
      "INFO:rosetta:\u001b[0mcore.scoring.etable: \u001b[0mFinished calculating energy tables.\n",
      "INFO:rosetta:\u001b[0mbasic.io.database: \u001b[0mDatabase file opened: scoring/score_functions/InterchainPotential/interchain_env_log.txt\n",
      "INFO:rosetta:\u001b[0mbasic.io.database: \u001b[0mDatabase file opened: scoring/score_functions/InterchainPotential/interchain_pair_log.txt\n",
      "INFO:rosetta:\u001b[0mbasic.io.database: \u001b[0mDatabase file opened: scoring/score_functions/EnvPairPotential/env_log.txt\n",
      "INFO:rosetta:\u001b[0mbasic.io.database: \u001b[0mDatabase file opened: scoring/score_functions/EnvPairPotential/cbeta_den.txt\n",
      "INFO:rosetta:\u001b[0mbasic.io.database: \u001b[0mDatabase file opened: scoring/score_functions/EnvPairPotential/pair_log.txt\n",
      "INFO:rosetta:\u001b[0mbasic.io.database: \u001b[0mDatabase file opened: scoring/score_functions/EnvPairPotential/cenpack_log.txt\n",
      "INFO:rosetta:\u001b[0mbasic.io.database: \u001b[0mDatabase file opened: scoring/score_functions/envsmooth/envdata.txt\n",
      "INFO:rosetta:\u001b[0mbasic.io.database: \u001b[0mDatabase file opened: scoring/score_functions/custom_pair_distance/pos_charge_repulsion\n",
      "INFO:rosetta:\u001b[0mbasic.io.database: \u001b[0mDatabase file opened: scoring/score_functions/custom_pair_distance/neg_charge_repulsion\n",
      "INFO:rosetta:\u001b[0mcore.scoring.custom_pair_distance.FullatomCustomPairDistanceEnergy: \u001b[0mAdded 8 AtomPairFuncList lists\n",
      "INFO:rosetta:\u001b[0mprotocols.jd2.parser.ScoreFunctionLoader: \u001b[0mdefined score function \"myscore\" with weights \"enzdes.wts\"\n",
      "INFO:rosetta:\u001b[0mcore.select.residue_selector.util: \u001b[0mFound residue selector chX\n",
      "INFO:rosetta:\u001b[0mcore.select.residue_selector.util: \u001b[0mFound residue selector chX\n",
      "INFO:rosetta:\u001b[0mcore.pose.ref_pose: \u001b[0mLoading PDB: store_native\n",
      "INFO:rosetta:\u001b[0mcore.simple_metrics.metrics.RMSDMetric: \u001b[0mLoaded reference pose: store_native with 0 residues\n",
      "INFO:rosetta:\u001b[0mprotocols.jd2.parser.TaskOperationLoader: \u001b[0mDefined TaskOperation named \"edto_repack\" of type DetectProteinLigandInterface\n",
      "INFO:rosetta:\u001b[0mprotocols.jd2.parser.TaskOperationLoader: \u001b[0mDefined TaskOperation named \"edto2\" of type DetectProteinLigandInterface\n",
      "INFO:rosetta:\u001b[0mprotocols.jd2.parser.TaskOperationLoader: \u001b[0mDefined TaskOperation named \"limchi2\" of type LimitAromaChi2\n",
      "INFO:rosetta:\u001b[0mprotocols.jd2.parser.TaskOperationLoader: \u001b[0mDefined TaskOperation named \"catres\" of type SetCatalyticResPackBehavior\n",
      "INFO:rosetta:\u001b[0mprotocols.jd2.parser.TaskOperationLoader: \u001b[0mDefined TaskOperation named \"up\" of type ProteinLigandInterfaceUpweighter\n",
      "INFO:rosetta:\u001b[0mprotocols.TaskOperations.DesignAroundOperation: \u001b[0mrepack_shell = 6 design shell = 6\n",
      "INFO:rosetta:\u001b[0mprotocols.jd2.parser.TaskOperationLoader: \u001b[0mDefined TaskOperation named \"DeAround\" of type DesignAround\n",
      "INFO:rosetta:\u001b[0mprotocols.enzdes.EnzFilters: \u001b[0menergies for whole pose will be calculated \n",
      " and scorefxn myscore will be used\n",
      "INFO:rosetta:\u001b[0mprotocols.rosetta_scripts.RosettaScriptsParser: \u001b[0mDefined filter named \"allcst\" of type EnzScore\n"
     ]
    },
    {
     "name": "stderr",
     "output_type": "stream",
     "text": [
      "INFO:rosetta:\u001b[0mprotocols.rosetta_scripts.RosettaScriptsParser: \u001b[0mDefined filter named \"interfE\" of type LigInterfaceEnergy\n",
      "INFO:rosetta:\u001b[0mprotocols.rosetta_scripts.RosettaScriptsParser: \u001b[0mDefined filter named \"rmsd_chX\" of type SimpleMetricFilter\n",
      "INFO:rosetta:\u001b[0mprotocols.enzdes.AddorRemoveCsts: \u001b[0m\u001b[1m[ WARNING ]\u001b[0m No name for the enzdes .cst file was specified in either the options, the xml tag, or programatically. AddOrRemoveMatchCsts will turn into a null operation.\n",
      "INFO:rosetta:\u001b[0mprotocols.rosetta_scripts.RosettaScriptsParser: \u001b[0mDefined mover named \"cstadd\" of type AddOrRemoveMatchCsts\n",
      "INFO:rosetta:\u001b[0mprotocols.rosetta_scripts.RosettaScriptsParser: \u001b[0mDefined mover named \"transform\" of type Transform\n",
      "INFO:rosetta:\u001b[0mprotocols.protein_interface_design.movers.FavorNativeResiduePreCycle: \u001b[0mSetting res_type_constraint weight in scorefxn REF2015 to 0.75\n",
      "Setting res_type_constraint weight in scorefxn commandline to 0.75\n",
      "Setting res_type_constraint weight in scorefxn score4L to 0.75\n",
      "Setting res_type_constraint weight in scorefxn score_docking_low to 0.75\n",
      "Setting res_type_constraint weight in scorefxn soft_rep to 0.75\n",
      "applying favor native residue to pose with weight: 0.75\n",
      "INFO:rosetta:\u001b[0mprotocols.rosetta_scripts.RosettaScriptsParser: \u001b[0mDefined mover named \"fnr\" of type FavorNativeResidue\n",
      "INFO:rosetta:\u001b[0mcore.pack.task.xml_util: \u001b[0mObject cstopt reading the following task_operations: Adding the following task operations\n",
      "up edto2 limchi2 catres\n",
      "INFO:rosetta:\u001b[0mprotocols.enzdes.EnzRepackMinimize: \u001b[0mrb_min_jumps set to 2 superseding the minimize_rb option\n",
      "INFO:rosetta:\u001b[0mprotocols.enzdes.EnzRepackMinimize: \u001b[0mdesign=0, with repack scorefxn commandline and minimize scorefxn commandline\n",
      "INFO:rosetta:\u001b[0mprotocols.rosetta_scripts.RosettaScriptsParser: \u001b[0mDefined mover named \"cstopt\" of type EnzRepackMinimize\n",
      "INFO:rosetta:\u001b[0mcore.pack.task.xml_util: \u001b[0mObject design_wbb reading the following task_operations: Adding the following task operations\n",
      "up edto2 limchi2 catres DeAround\n",
      "INFO:rosetta:\u001b[0mprotocols.enzdes.EnzRepackMinimize: \u001b[0mrb_min_jumps set to 2 superseding the minimize_rb option\n",
      "INFO:rosetta:\u001b[0mprotocols.enzdes.EnzRepackMinimize: \u001b[0mdesign=1, with repack scorefxn soft_rep and minimize scorefxn myscore\n",
      "INFO:rosetta:\u001b[0mprotocols.rosetta_scripts.RosettaScriptsParser: \u001b[0mDefined mover named \"design_wbb\" of type EnzRepackMinimize\n",
      "INFO:rosetta:\u001b[0mcore.pack.task.xml_util: \u001b[0mObject repack_nobb reading the following task_operations: Adding the following task operations\n",
      "up edto_repack limchi2 catres\n",
      "INFO:rosetta:\u001b[0mprotocols.enzdes.EnzRepackMinimize: \u001b[0mrb_min_jumps set to 2 superseding the minimize_rb option\n",
      "INFO:rosetta:\u001b[0mprotocols.enzdes.EnzRepackMinimize: \u001b[0mdesign=0, with repack scorefxn soft_rep and minimize scorefxn myscore\n",
      "INFO:rosetta:\u001b[0mprotocols.rosetta_scripts.RosettaScriptsParser: \u001b[0mDefined mover named \"repack_nobb\" of type EnzRepackMinimize\n",
      "INFO:rosetta:\u001b[0mcore.pack.task.xml_util: \u001b[0mObject repack_wbb reading the following task_operations: Adding the following task operations\n",
      "up edto_repack limchi2 catres\n",
      "INFO:rosetta:\u001b[0mprotocols.enzdes.EnzRepackMinimize: \u001b[0mrb_min_jumps set to 2 superseding the minimize_rb option\n",
      "INFO:rosetta:\u001b[0mprotocols.enzdes.EnzRepackMinimize: \u001b[0mdesign=0, with repack scorefxn soft_rep and minimize scorefxn myscore\n",
      "INFO:rosetta:\u001b[0mprotocols.rosetta_scripts.RosettaScriptsParser: \u001b[0mDefined mover named \"repack_wbb\" of type EnzRepackMinimize\n",
      "INFO:rosetta:\u001b[0mcore.pack.task.xml_util: \u001b[0mObject min reading the following task_operations: Adding the following task operations\n",
      "up edto_repack limchi2 catres\n",
      "INFO:rosetta:\u001b[0mprotocols.enzdes.EnzRepackMinimize: \u001b[0mrb_min_jumps set to 1 superseding the minimize_rb option\n",
      "INFO:rosetta:\u001b[0mprotocols.enzdes.EnzRepackMinimize: \u001b[0mdesign=0, with repack scorefxn soft_rep and minimize scorefxn myscore\n",
      "INFO:rosetta:\u001b[0mprotocols.rosetta_scripts.RosettaScriptsParser: \u001b[0mDefined mover named \"min\" of type EnzRepackMinimize\n",
      "INFO:rosetta:\u001b[0mprotocols.rosetta_scripts.RosettaScriptsParser: \u001b[0mDefined mover named \"predock\" of type PredesignPerturbMover\n",
      "INFO:rosetta:\u001b[0mprotocols.rosetta_scripts.ParsedProtocol: \u001b[0mParsedProtocol mover with the following movers and filters\n",
      "INFO:rosetta:\u001b[0mprotocols.rosetta_scripts.ParsedProtocol: \u001b[0madded mover \"predock\" with filter \"true_filter\"\n",
      "INFO:rosetta:\u001b[0mprotocols.rosetta_scripts.ParsedProtocol: \u001b[0madded mover \"cstopt\" with filter \"true_filter\"\n",
      "INFO:rosetta:\u001b[0mprotocols.rosetta_scripts.ParsedProtocol: \u001b[0madded mover \"design_wbb\" with filter \"true_filter\"\n",
      "INFO:rosetta:\u001b[0mprotocols.rosetta_scripts.ParsedProtocol: \u001b[0madded mover \"repack_nobb\" with filter \"true_filter\"\n",
      "INFO:rosetta:\u001b[0mprotocols.rosetta_scripts.ParsedProtocol: \u001b[0madded mover \"min\" with filter \"true_filter\"\n",
      "INFO:rosetta:\u001b[0mprotocols.rosetta_scripts.RosettaScriptsParser: \u001b[0mDefined mover named \"dock_pack\" of type ParsedProtocol\n",
      "INFO:rosetta:\u001b[0mprotocols.monte_carlo.GenericMonteCarloMover: \u001b[0mScore evaluation during MC is done bymyscore, true_filter is ignored.\n",
      "INFO:rosetta:\u001b[0mprotocols.monte_carlo.GenericMonteCarloMover: \u001b[0mApply mover of dock_pack, and evaluate score by myscore at Temperature=0.6, ntrails= 4\n",
      "INFO:rosetta:\u001b[0mprotocols.rosetta_scripts.RosettaScriptsParser: \u001b[0mDefined mover named \"interactive_dp\" of type GenericMonteCarlo\n",
      "INFO:rosetta:\u001b[0mprotocols.relax.FastRelax: \u001b[0mLooking for default.txt\n",
      "INFO:rosetta:\u001b[0mprotocols.relax.RelaxScriptManager: \u001b[0m================== Reading script file: /share/siegellab/youtian/anaconda3/lib/python3.6/site-packages/pyrosetta/database/sampling/relax_scripts/default.txt ==================\n",
      "INFO:rosetta:\u001b[0mprotocols.relax.RelaxScriptManager: \u001b[0mrepeat %%nrepeats%%\n",
      "INFO:rosetta:\u001b[0mprotocols.relax.RelaxScriptManager: \u001b[0mramp_repack_min 0.02  0.01     1.0\n",
      "INFO:rosetta:\u001b[0mprotocols.relax.RelaxScriptManager: \u001b[0mramp_repack_min 0.250 0.01     0.5\n",
      "INFO:rosetta:\u001b[0mprotocols.relax.RelaxScriptManager: \u001b[0mramp_repack_min 0.550 0.01     0.0\n",
      "INFO:rosetta:\u001b[0mprotocols.relax.RelaxScriptManager: \u001b[0mramp_repack_min 1     0.00001  0.0\n",
      "INFO:rosetta:\u001b[0mprotocols.relax.RelaxScriptManager: \u001b[0maccept_to_best\n",
      "INFO:rosetta:\u001b[0mprotocols.relax.RelaxScriptManager: \u001b[0mendrepeat\n",
      "INFO:rosetta:\u001b[0mcore.pack.task.xml_util: \u001b[0mObject fastrelax reading the following task_operations: Adding the following task operations\n",
      "edto_repack\n",
      "INFO:rosetta:\u001b[0mprotocols.relax.FastRelax: \u001b[0mLooking for default.txt\n",
      "INFO:rosetta:\u001b[0mprotocols.rosetta_scripts.RosettaScriptsParser: \u001b[0mDefined mover named \"fastrelax\" of type FastRelax\n",
      "INFO:rosetta:\u001b[0mcore.mm.MMBondAngleLibrary: \u001b[0mMM bond angle sets added fully assigned: 603; wildcard: 0 and 1 virtual parameter.\n",
      "INFO:rosetta:\u001b[0mprotocols.protein_interface_design.BackrubDDMover: \u001b[0mbackrub mover\n",
      "INFO:rosetta:\u001b[0mprotocols.rosetta_scripts.RosettaScriptsParser: \u001b[0mDefined mover named \"backrub\" of type BackrubDD\n",
      "INFO:rosetta:\u001b[0mprotocols.rosetta_scripts.RosettaScriptsParser: \u001b[0mDefined mover named \"FSP\" of type FavorSequenceProfile\n",
      "INFO:rosetta:\u001b[0mprotocols.rosetta_scripts.ParsedProtocol: \u001b[0mParsedProtocol mover with the following movers and filters\n",
      "INFO:rosetta:\u001b[0mprotocols.rosetta_scripts.ParsedProtocol: \u001b[0madded mover \"cstadd\" with filter \"true_filter\"\n",
      "INFO:rosetta:\u001b[0mprotocols.rosetta_scripts.ParsedProtocol: \u001b[0madded mover \"FSP\" with filter \"true_filter\"\n",
      "INFO:rosetta:\u001b[0mprotocols.rosetta_scripts.ParsedProtocol: \u001b[0madded mover \"backrub\" with filter \"true_filter\"\n",
      "INFO:rosetta:\u001b[0mprotocols.rosetta_scripts.ParsedProtocol: \u001b[0madded mover \"transform\" with filter \"true_filter\"\n",
      "INFO:rosetta:\u001b[0mprotocols.rosetta_scripts.ParsedProtocol: \u001b[0madded mover \"interactive_dp\" with filter \"true_filter\"\n",
      "INFO:rosetta:\u001b[0mprotocols.rosetta_scripts.ParsedProtocol: \u001b[0madded mover \"NULL_MOVER\" with filter \"allcst\"\n",
      "INFO:rosetta:\u001b[0mprotocols.rosetta_scripts.ParsedProtocol: \u001b[0madded mover \"NULL_MOVER\" with filter \"interfE\"\n"
     ]
    }
   ],
   "source": [
    "xml = pyrosetta.rosetta.protocols.rosetta_scripts.XmlObjects.create_from_string(string).get_mover(\"ParsedProtocol\") "
   ]
  },
  {
   "cell_type": "code",
   "execution_count": 14,
   "metadata": {
    "scrolled": false
   },
   "outputs": [],
   "source": [
    "# xml = pyrosetta.rosetta.protocols.rosetta_scripts.XmlObjects.create_from_string(\"\"\"\n",
    "# <ROSETTASCRIPTS>\n",
    "#       <SCOREFXNS>\n",
    "#                 <ScoreFunction name=\"myscore\" weights=\"enzdes.wts\"/> \n",
    "#       </SCOREFXNS>\n",
    "#       <RESIDUE_SELECTORS>\n",
    "#           <Chain name=\"chX\" chains=\"X\"/>\n",
    "#       </RESIDUE_SELECTORS>\n",
    "#       <SCORINGGRIDS ligand_chain=\"X\" width=\"15\">\n",
    "#           <ClassicGrid grid_name=\"vdw\" weight=\"1.0\"/>\n",
    "#       </SCORINGGRIDS>\n",
    "#       <SIMPLE_METRICS>\n",
    "#           <RMSDMetric name=\"rmsd_chX\" residue_selector=\"chX\" reference_name=\"store_native\" residue_selector_ref=\"chX\" robust=\"true\" rmsd_type=\"rmsd_all\" />\n",
    "#       </SIMPLE_METRICS>\n",
    "#       <TASKOPERATIONS>\n",
    "#             #DetectProteinLigandInterface name=\"edto\" resfile=\"5eujArgPolar.resfile\" design=\"1\" cut1=\"0.0\" cut2=\"0.0\" cut3=\"0.0\" cut4=\"12.0\"\n",
    "#             <DetectProteinLigandInterface name=\"edto_repack\" design=\"0\" cut1=\"6.0\" cut2=\"8.0\" cut3=\"10.0\" cut4=\"12.0\"/>\n",
    "#             <DetectProteinLigandInterface name=\"edto2\" design=\"1\" cut1=\"6.0\" cut2=\"8.0\" cut3=\"10.0\" cut4=\"12.0\"/>\n",
    "#             <LimitAromaChi2 name=\"limchi2\"/>\n",
    "#             <SetCatalyticResPackBehavior name=\"catres\" fix_catalytic_aa=\"0\"/>\n",
    "#             <ProteinLigandInterfaceUpweighter name=\"up\" interface_weight=\"1.5\"/>\n",
    "#             DesignAround name=\"DeAround\" design_shell=\"8.0\" resnums=\"%s\" repack_shell=\"8.0\" allow_design=\"0\" /\n",
    "#       </TASKOPERATIONS>\n",
    "#       <FILTERS>\n",
    "#                 <EnzScore name=\"allcst\" score_type=\"cstE\" scorefxn=\"myscore\" whole_pose=\"1\" energy_cutoff=\"400\"/> \n",
    "#                 <LigInterfaceEnergy name=\"interfE\" scorefxn=\"myscore\" energy_cutoff=\"0.0\" confidence=\"0\"/>\n",
    "#                 <SimpleMetricFilter name=\"rmsd_chX\" metric=\"rmsd_chX\" cutoff=\"999999.\" comparison_type=\"lt\" confidence=\"0\"/>\n",
    "#        </FILTERS>\n",
    "#        <MOVERS>\n",
    "#              <AddOrRemoveMatchCsts name=\"cstadd\" cst_instruction=\"add_new\" />\n",
    "#             <Transform name=\"transform\" chain=\"X\" box_size=\"7.0\" move_distance=\"0.1\" angle=\"40\" initial_perturb=\"2\" cycles=\"500\" repeats=\"1\" temperature=\"5\"/>\n",
    "# <EnzRepackMinimize name=\"cstopt\" cst_opt=\"1\" minimize_rb=\"1\" minimize_sc=\"1\" minimize_bb=\"0\" cycles=\"2\" min_in_stages=\"0\" minimize_lig=\"1\" rb_min_jumps=\"2\" task_operations=\"up,edto2,limchi2,catres\"/>\n",
    "# <EnzRepackMinimize name=\"design_wbb\" design=\"1\" repack_only=\"0\" scorefxn_minimize=\"myscore\" scorefxn_repack=\"soft_rep\" minimize_rb=\"1\" rb_min_jumps=\"2\"  minimize_sc=\"1\" minimize_bb=\"1\" cycles=\"1\" minimize_lig=\"1\" min_in_stages=\"0\" backrub=\"0\" task_operations=\"up,edto2,limchi2,catres\"/>\n",
    "# <EnzRepackMinimize name=\"repack_nobb\" design=\"0\" repack_only=\"1\" scorefxn_minimize=\"myscore\" scorefxn_repack=\"soft_rep\" minimize_rb=\"1\" rb_min_jumps=\"2\"  minimize_sc=\"1\" minimize_bb=\"0\" cycles=\"1\" minimize_lig=\"1\" min_in_stages=\"0\" backrub=\"0\" task_operations=\"up,edto_repack,limchi2,catres\"/>\n",
    "# <EnzRepackMinimize name=\"repack_wbb\" design=\"0\" repack_only=\"1\" scorefxn_minimize=\"myscore\" scorefxn_repack=\"soft_rep\" minimize_rb=\"1\" rb_min_jumps=\"2\"  minimize_sc=\"1\" minimize_bb=\"0\" cycles=\"1\" minimize_lig=\"1\" min_in_stages=\"0\" backrub=\"0\" task_operations=\"up,edto_repack,limchi2,catres\"/> \n",
    "# <EnzRepackMinimize name=\"min\" design=\"0\" repack_only=\"0\" scorefxn_minimize=\"myscore\" scorefxn_repack=\"soft_rep\" minimize_rb=\"1\" rb_min_jumps=\"1\"  minimize_sc=\"1\" minimize_bb=\"1\" cycles=\"1\" minimize_lig=\"1\" min_in_stages=\"0\" backrub=\"0\" task_operations=\"up,edto_repack,limchi2,catres\"/>\n",
    "#              PDBTrajectoryRecorder name=\"pdb_traj_recorder\" stride=\"1\" filename=\"traj.pdb\" cumulate_jobs=\"0\" cumulate_replicas=\"0\"/\n",
    "#              PDBTrajectoryRecorder name=\"pdb_traj_recorder_accepted\" stride=\"1\" filename=\"traj_accepted.pdb\" cumulate_jobs=\"0\"\n",
    "#              <PredesignPerturbMover name=\"predock\" trans_magnitude=\"0.1\" rot_magnitude=\"1\" dock_trials=\"500\"/>\n",
    "#              <ParsedProtocol name=\"dock_pack\">\n",
    "#                 Add mover=\"pdb_traj_recorder\"\n",
    "#                 <Add mover=\"predock\"/>\n",
    "#                 <Add mover=\"cstopt\"/>\n",
    "#                 Add mover=\"min\"/\n",
    "#                 <Add mover=\"repack_wbb\"/>\n",
    "#                 Add mover=\"pdb_traj_recorder_accepted\"\n",
    "#              </ParsedProtocol>\n",
    "#              <GenericMonteCarlo name=\"interactive_dp\" mover_name=\"dock_pack\" scorefxn_name=\"myscore\" trials=\"5\" sample_type=\"low\" temperature=\"0.6\" drift=\"1\"/>\n",
    "#              <FavorNativeResidue name=\"fnr\" bonus=\"1.25\"/>\n",
    "#              <FastRelax name=\"fastdes\" scorefxn=\"myscore\" task_operations=\"edto_repack\"/>\n",
    "#              FilterReportAsPoseExtraScoresMover name=\"report\" report_as=\"constraint\" filter_name=\"allcst\"\n",
    "#       </MOVERS>\n",
    "#       <PROTOCOLS>\n",
    "#               <Add mover_name=\"cstadd\"/>\n",
    "#               <Add mover_name=\"transform\"/>\n",
    "#               <Add mover=\"interactive_dp\"/>\n",
    "#               <Add filter_name=\"allcst\"/>\n",
    "#               <Add filter_name=\"interfE\"/>\n",
    "#               Add mover_name=\"report\"\n",
    "#               Add filter_name=\"rmsd_chX\"\n",
    "#       </PROTOCOLS>\n",
    "# </ROSETTASCRIPTS>\n",
    "# \"\"\").get_mover(\"ParsedProtocol\")"
   ]
  },
  {
   "cell_type": "code",
   "execution_count": 15,
   "metadata": {
    "scrolled": true
   },
   "outputs": [
    {
     "name": "stderr",
     "output_type": "stream",
     "text": [
      "INFO:rosetta:\u001b[0mprotocols.toolbox.match_enzdes_util.MatchConstraintFileIfo: \u001b[0m\u001b[1m[ WARNING ]\u001b[0m No appropriate atoms found for entry 1 in constraint 1\n",
      "INFO:rosetta:\u001b[0mprotocols.toolbox.match_enzdes_util.MatchConstraintFileIfo: \u001b[0m\u001b[1m[ WARNING ]\u001b[0m No appropriate atoms found for entry 2 in constraint 1\n",
      "INFO:rosetta:\u001b[0mprotocols.toolbox.match_enzdes_util.MatchConstraintFileIfo: \u001b[0m\u001b[1m[ WARNING ]\u001b[0m No appropriate atoms found for entry 1 in constraint 1\n",
      "INFO:rosetta:\u001b[0mprotocols.toolbox.match_enzdes_util.MatchConstraintFileIfo: \u001b[0m\u001b[1m[ WARNING ]\u001b[0m No appropriate atoms found for entry 2 in constraint 1\n",
      "INFO:rosetta:\u001b[0mprotocols.toolbox.match_enzdes_util.MatchConstraintFileIfo: \u001b[0m\u001b[1m[ WARNING ]\u001b[0m No appropriate atoms found for entry 1 in constraint 1\n",
      "INFO:rosetta:\u001b[0mprotocols.toolbox.match_enzdes_util.MatchConstraintFileIfo: \u001b[0m\u001b[1m[ WARNING ]\u001b[0m No appropriate atoms found for entry 2 in constraint 1\n",
      "INFO:rosetta:\u001b[0mprotocols.toolbox.match_enzdes_util.EnzConstraintIO: \u001b[0mread enzyme constraints from input/1qi1_withK.enzdes.cst ... done, 13 cst blocks were read.\n",
      "INFO:rosetta:\u001b[0mprotocols.toolbox.match_enzdes_util.EnzConstraintIO: \u001b[0mGenerating constraints for pose...\n",
      "INFO:rosetta:\u001b[0mprotocols.toolbox.match_enzdes_util.EnzConstraintParameters: \u001b[0mfor block 1, 3 newly generated constraints were added\n",
      "INFO:rosetta:\u001b[0mprotocols.toolbox.match_enzdes_util.EnzConstraintIO: \u001b[0mchecking cst data consistency for block 1...  done\n",
      "INFO:rosetta:\u001b[0mprotocols.toolbox.match_enzdes_util.EnzConstraintIO: \u001b[0mCst Block 1done...\n",
      "INFO:rosetta:\u001b[0mcore.conformation.Residue: \u001b[0m\u001b[1m[ WARNING ]\u001b[0m Residue connection id changed when creating a new residue at seqpos 476\n",
      "INFO:rosetta:\u001b[0mcore.conformation.Residue: \u001b[0m\u001b[1m[ WARNING ]\u001b[0m ResConnID info stored on the connected residue (residue 475) is now out of date!\n",
      "INFO:rosetta:\u001b[0mcore.conformation.Residue: \u001b[0m\u001b[1m[ WARNING ]\u001b[0m Connection atom name (in src):  X2\n",
      "INFO:rosetta:\u001b[0mprotocols.toolbox.match_enzdes_util.EnzConstraintParameters: \u001b[0mfor block 2, 1 newly generated constraints were added\n",
      "INFO:rosetta:\u001b[0mprotocols.toolbox.match_enzdes_util.EnzConstraintIO: \u001b[0mchecking cst data consistency for block 2...  done\n",
      "INFO:rosetta:\u001b[0mprotocols.toolbox.match_enzdes_util.EnzConstraintIO: \u001b[0mCst Block 2done...\n",
      "INFO:rosetta:\u001b[0mcore.conformation.Residue: \u001b[0m\u001b[1m[ WARNING ]\u001b[0m Residue connection id changed when creating a new residue at seqpos 476\n",
      "INFO:rosetta:\u001b[0mcore.conformation.Residue: \u001b[0m\u001b[1m[ WARNING ]\u001b[0m ResConnID info stored on the connected residue (residue 475) is now out of date!\n",
      "INFO:rosetta:\u001b[0mcore.conformation.Residue: \u001b[0m\u001b[1m[ WARNING ]\u001b[0m Connection atom name (in src):  C3\n",
      "INFO:rosetta:\u001b[0mcore.conformation.Residue: \u001b[0m\u001b[1m[ WARNING ]\u001b[0m Residue connection id changed when creating a new residue at seqpos 476\n",
      "INFO:rosetta:\u001b[0mcore.conformation.Residue: \u001b[0m\u001b[1m[ WARNING ]\u001b[0m ResConnID info stored on the connected residue (residue 475) is now out of date!\n",
      "INFO:rosetta:\u001b[0mcore.conformation.Residue: \u001b[0m\u001b[1m[ WARNING ]\u001b[0m Connection atom name (in src):  X2\n",
      "INFO:rosetta:\u001b[0mprotocols.toolbox.match_enzdes_util.EnzConstraintParameters: \u001b[0mfor block 3, 3 newly generated constraints were added\n",
      "INFO:rosetta:\u001b[0mprotocols.toolbox.match_enzdes_util.EnzConstraintIO: \u001b[0mchecking cst data consistency for block 3...  done\n",
      "INFO:rosetta:\u001b[0mprotocols.toolbox.match_enzdes_util.EnzConstraintIO: \u001b[0mCst Block 3done...\n",
      "INFO:rosetta:\u001b[0mprotocols.toolbox.match_enzdes_util.EnzConstraintParameters: \u001b[0mfor block 4, 3 newly generated constraints were added\n",
      "INFO:rosetta:\u001b[0mprotocols.toolbox.match_enzdes_util.EnzConstraintIO: \u001b[0mchecking cst data consistency for block 4...  done\n",
      "INFO:rosetta:\u001b[0mprotocols.toolbox.match_enzdes_util.EnzConstraintIO: \u001b[0mCst Block 4done...\n",
      "INFO:rosetta:\u001b[0mprotocols.toolbox.match_enzdes_util.EnzConstraintParameters: \u001b[0mConstraint specified between residues 102 and 476 is ambiguous, 2 different possibilities ( 2 for 102, 1 for 476.)\n",
      "INFO:rosetta:\u001b[0mprotocols.toolbox.match_enzdes_util.EnzConstraintParameters: \u001b[0mfor block 5, 2 newly generated constraints were added\n",
      "INFO:rosetta:\u001b[0mprotocols.toolbox.match_enzdes_util.EnzConstraintIO: \u001b[0mchecking cst data consistency for block 5...  done\n",
      "INFO:rosetta:\u001b[0mprotocols.toolbox.match_enzdes_util.EnzConstraintIO: \u001b[0mCst Block 5done...\n",
      "INFO:rosetta:\u001b[0mprotocols.toolbox.match_enzdes_util.EnzConstraintParameters: \u001b[0mConstraint specified between residues 282 and 476 is ambiguous, 2 different possibilities ( 2 for 282, 1 for 476.)\n",
      "INFO:rosetta:\u001b[0mprotocols.toolbox.match_enzdes_util.EnzConstraintParameters: \u001b[0mfor block 6, 2 newly generated constraints were added\n",
      "INFO:rosetta:\u001b[0mprotocols.toolbox.match_enzdes_util.EnzConstraintIO: \u001b[0mchecking cst data consistency for block 6...  done\n",
      "INFO:rosetta:\u001b[0mprotocols.toolbox.match_enzdes_util.EnzConstraintIO: \u001b[0mCst Block 6done...\n",
      "INFO:rosetta:\u001b[0mprotocols.toolbox.match_enzdes_util.EnzConstraintParameters: \u001b[0mfor block 7, 1 newly generated constraints were added\n",
      "INFO:rosetta:\u001b[0mprotocols.toolbox.match_enzdes_util.EnzConstraintIO: \u001b[0mchecking cst data consistency for block 7...  done\n",
      "INFO:rosetta:\u001b[0mprotocols.toolbox.match_enzdes_util.EnzConstraintIO: \u001b[0mCst Block 7done...\n",
      "INFO:rosetta:\u001b[0mprotocols.toolbox.match_enzdes_util.EnzConstraintParameters: \u001b[0mConstraint specified between residues 436 and 476 is ambiguous, 2 different possibilities ( 2 for 436, 1 for 476.)\n",
      "INFO:rosetta:\u001b[0mprotocols.toolbox.match_enzdes_util.EnzConstraintParameters: \u001b[0mfor block 8, 2 newly generated constraints were added\n",
      "INFO:rosetta:\u001b[0mprotocols.toolbox.match_enzdes_util.EnzConstraintIO: \u001b[0mchecking cst data consistency for block 8...  done\n",
      "INFO:rosetta:\u001b[0mprotocols.toolbox.match_enzdes_util.EnzConstraintIO: \u001b[0mCst Block 8done...\n",
      "INFO:rosetta:\u001b[0mprotocols.toolbox.match_enzdes_util.EnzConstraintParameters: \u001b[0mConstraint specified between residues 436 and 157 is ambiguous, 2 different possibilities ( 2 for 436, 1 for 157.)\n",
      "INFO:rosetta:\u001b[0mprotocols.toolbox.match_enzdes_util.EnzConstraintParameters: \u001b[0mfor block 9, 2 newly generated constraints were added\n",
      "INFO:rosetta:\u001b[0mprotocols.toolbox.match_enzdes_util.EnzConstraintIO: \u001b[0mchecking cst data consistency for block 9...  done\n",
      "INFO:rosetta:\u001b[0mprotocols.toolbox.match_enzdes_util.EnzConstraintIO: \u001b[0mCst Block 9done...\n",
      "INFO:rosetta:\u001b[0mprotocols.toolbox.match_enzdes_util.EnzConstraintParameters: \u001b[0mConstraint specified between residues 436 and 439 is ambiguous, 4 different possibilities ( 2 for 436, 2 for 439.)\n",
      "INFO:rosetta:\u001b[0mprotocols.toolbox.match_enzdes_util.EnzConstraintParameters: \u001b[0mfor block 10, 4 newly generated constraints were added\n",
      "INFO:rosetta:\u001b[0mprotocols.toolbox.match_enzdes_util.EnzConstraintIO: \u001b[0mchecking cst data consistency for block 10...  done\n",
      "INFO:rosetta:\u001b[0mprotocols.toolbox.match_enzdes_util.EnzConstraintIO: \u001b[0mCst Block 10done...\n",
      "INFO:rosetta:\u001b[0mprotocols.toolbox.match_enzdes_util.EnzConstraintParameters: \u001b[0mfor block 11, 1 newly generated constraints were added\n",
      "INFO:rosetta:\u001b[0mprotocols.toolbox.match_enzdes_util.EnzConstraintIO: \u001b[0mchecking cst data consistency for block 11...  done\n",
      "INFO:rosetta:\u001b[0mprotocols.toolbox.match_enzdes_util.EnzConstraintIO: \u001b[0mCst Block 11done...\n",
      "INFO:rosetta:\u001b[0mprotocols.toolbox.match_enzdes_util.EnzConstraintParameters: \u001b[0mfor block 12, 1 newly generated constraints were added\n",
      "INFO:rosetta:\u001b[0mprotocols.toolbox.match_enzdes_util.EnzConstraintIO: \u001b[0mchecking cst data consistency for block 12...  done\n",
      "INFO:rosetta:\u001b[0mprotocols.toolbox.match_enzdes_util.EnzConstraintIO: \u001b[0mCst Block 12done...\n",
      "INFO:rosetta:\u001b[0mprotocols.toolbox.match_enzdes_util.EnzConstraintParameters: \u001b[0mfor block 13, 1 newly generated constraints were added\n",
      "INFO:rosetta:\u001b[0mprotocols.toolbox.match_enzdes_util.EnzConstraintIO: \u001b[0mchecking cst data consistency for block 13...  done\n",
      "INFO:rosetta:\u001b[0mprotocols.toolbox.match_enzdes_util.EnzConstraintIO: \u001b[0mCst Block 13done...\n"
     ]
    }
   ],
   "source": [
    "AddorRemoveCst = xml.get_mover(1)\n",
    "AddorRemoveCst.cstfile('input/1qi1_withK.enzdes.cst')\n",
    "AddorRemoveCst.apply(pose)"
   ]
  },
  {
   "cell_type": "code",
   "execution_count": null,
   "metadata": {
    "scrolled": false
   },
   "outputs": [
    {
     "name": "stderr",
     "output_type": "stream",
     "text": [
      "INFO:rosetta:\u001b[0mprotocols.rosetta_scripts.ParsedProtocol: \u001b[0m=======================BEGIN MOVER AddOrRemoveMatchCsts - cstadd=======================\n"
     ]
    },
    {
     "name": "stdout",
     "output_type": "stream",
     "text": [
      "Working on decoy: test_lig_3.pdb\n"
     ]
    },
    {
     "name": "stderr",
     "output_type": "stream",
     "text": [
      "INFO:rosetta:\u001b[0mprotocols.toolbox.match_enzdes_util.EnzConstraintIO: \u001b[0mGenerating constraints for pose...\n",
      "INFO:rosetta:\u001b[0mprotocols.toolbox.match_enzdes_util.EnzConstraintParameters: \u001b[0mfor block 1, 3 newly generated constraints were added\n",
      "INFO:rosetta:\u001b[0mprotocols.toolbox.match_enzdes_util.EnzConstraintIO: \u001b[0mchecking cst data consistency for block 1...  done\n",
      "INFO:rosetta:\u001b[0mprotocols.toolbox.match_enzdes_util.EnzConstraintIO: \u001b[0mCst Block 1done...\n",
      "INFO:rosetta:\u001b[0mcore.conformation.Residue: \u001b[0m\u001b[1m[ WARNING ]\u001b[0m Residue connection id changed when creating a new residue at seqpos 476\n",
      "INFO:rosetta:\u001b[0mcore.conformation.Residue: \u001b[0m\u001b[1m[ WARNING ]\u001b[0m ResConnID info stored on the connected residue (residue 475) is now out of date!\n",
      "INFO:rosetta:\u001b[0mcore.conformation.Residue: \u001b[0m\u001b[1m[ WARNING ]\u001b[0m Connection atom name (in src):  X2\n",
      "INFO:rosetta:\u001b[0mprotocols.toolbox.match_enzdes_util.EnzConstraintParameters: \u001b[0mfor block 2, 1 newly generated constraints were added\n",
      "INFO:rosetta:\u001b[0mprotocols.toolbox.match_enzdes_util.EnzConstraintIO: \u001b[0mchecking cst data consistency for block 2...  done\n",
      "INFO:rosetta:\u001b[0mprotocols.toolbox.match_enzdes_util.EnzConstraintIO: \u001b[0mCst Block 2done...\n",
      "INFO:rosetta:\u001b[0mcore.conformation.Residue: \u001b[0m\u001b[1m[ WARNING ]\u001b[0m Residue connection id changed when creating a new residue at seqpos 476\n",
      "INFO:rosetta:\u001b[0mcore.conformation.Residue: \u001b[0m\u001b[1m[ WARNING ]\u001b[0m ResConnID info stored on the connected residue (residue 475) is now out of date!\n",
      "INFO:rosetta:\u001b[0mcore.conformation.Residue: \u001b[0m\u001b[1m[ WARNING ]\u001b[0m Connection atom name (in src):  C3\n",
      "INFO:rosetta:\u001b[0mcore.conformation.Residue: \u001b[0m\u001b[1m[ WARNING ]\u001b[0m Residue connection id changed when creating a new residue at seqpos 476\n",
      "INFO:rosetta:\u001b[0mcore.conformation.Residue: \u001b[0m\u001b[1m[ WARNING ]\u001b[0m ResConnID info stored on the connected residue (residue 475) is now out of date!\n",
      "INFO:rosetta:\u001b[0mcore.conformation.Residue: \u001b[0m\u001b[1m[ WARNING ]\u001b[0m Connection atom name (in src):  X2\n",
      "INFO:rosetta:\u001b[0mprotocols.toolbox.match_enzdes_util.EnzConstraintParameters: \u001b[0mfor block 3, 3 newly generated constraints were added\n",
      "INFO:rosetta:\u001b[0mprotocols.toolbox.match_enzdes_util.EnzConstraintIO: \u001b[0mchecking cst data consistency for block 3...  done\n",
      "INFO:rosetta:\u001b[0mprotocols.toolbox.match_enzdes_util.EnzConstraintIO: \u001b[0mCst Block 3done...\n",
      "INFO:rosetta:\u001b[0mprotocols.toolbox.match_enzdes_util.EnzConstraintParameters: \u001b[0mfor block 4, 3 newly generated constraints were added\n",
      "INFO:rosetta:\u001b[0mprotocols.toolbox.match_enzdes_util.EnzConstraintIO: \u001b[0mchecking cst data consistency for block 4...  done\n",
      "INFO:rosetta:\u001b[0mprotocols.toolbox.match_enzdes_util.EnzConstraintIO: \u001b[0mCst Block 4done...\n",
      "INFO:rosetta:\u001b[0mprotocols.toolbox.match_enzdes_util.EnzConstraintParameters: \u001b[0mConstraint specified between residues 102 and 476 is ambiguous, 2 different possibilities ( 2 for 102, 1 for 476.)\n",
      "INFO:rosetta:\u001b[0mprotocols.toolbox.match_enzdes_util.EnzConstraintParameters: \u001b[0mfor block 5, 2 newly generated constraints were added\n",
      "INFO:rosetta:\u001b[0mprotocols.toolbox.match_enzdes_util.EnzConstraintIO: \u001b[0mchecking cst data consistency for block 5...  done\n",
      "INFO:rosetta:\u001b[0mprotocols.toolbox.match_enzdes_util.EnzConstraintIO: \u001b[0mCst Block 5done...\n",
      "INFO:rosetta:\u001b[0mprotocols.toolbox.match_enzdes_util.EnzConstraintParameters: \u001b[0mConstraint specified between residues 282 and 476 is ambiguous, 2 different possibilities ( 2 for 282, 1 for 476.)\n",
      "INFO:rosetta:\u001b[0mprotocols.toolbox.match_enzdes_util.EnzConstraintParameters: \u001b[0mfor block 6, 2 newly generated constraints were added\n",
      "INFO:rosetta:\u001b[0mprotocols.toolbox.match_enzdes_util.EnzConstraintIO: \u001b[0mchecking cst data consistency for block 6...  done\n",
      "INFO:rosetta:\u001b[0mprotocols.toolbox.match_enzdes_util.EnzConstraintIO: \u001b[0mCst Block 6done...\n",
      "INFO:rosetta:\u001b[0mprotocols.toolbox.match_enzdes_util.EnzConstraintParameters: \u001b[0mfor block 7, 1 newly generated constraints were added\n",
      "INFO:rosetta:\u001b[0mprotocols.toolbox.match_enzdes_util.EnzConstraintIO: \u001b[0mchecking cst data consistency for block 7...  done\n",
      "INFO:rosetta:\u001b[0mprotocols.toolbox.match_enzdes_util.EnzConstraintIO: \u001b[0mCst Block 7done...\n",
      "INFO:rosetta:\u001b[0mprotocols.toolbox.match_enzdes_util.EnzConstraintParameters: \u001b[0mConstraint specified between residues 436 and 476 is ambiguous, 2 different possibilities ( 2 for 436, 1 for 476.)\n",
      "INFO:rosetta:\u001b[0mprotocols.toolbox.match_enzdes_util.EnzConstraintParameters: \u001b[0mfor block 8, 2 newly generated constraints were added\n",
      "INFO:rosetta:\u001b[0mprotocols.toolbox.match_enzdes_util.EnzConstraintIO: \u001b[0mchecking cst data consistency for block 8...  done\n",
      "INFO:rosetta:\u001b[0mprotocols.toolbox.match_enzdes_util.EnzConstraintIO: \u001b[0mCst Block 8done...\n",
      "INFO:rosetta:\u001b[0mprotocols.toolbox.match_enzdes_util.EnzConstraintParameters: \u001b[0mConstraint specified between residues 436 and 157 is ambiguous, 2 different possibilities ( 2 for 436, 1 for 157.)\n",
      "INFO:rosetta:\u001b[0mprotocols.toolbox.match_enzdes_util.EnzConstraintParameters: \u001b[0mfor block 9, 2 newly generated constraints were added\n",
      "INFO:rosetta:\u001b[0mprotocols.toolbox.match_enzdes_util.EnzConstraintIO: \u001b[0mchecking cst data consistency for block 9...  done\n",
      "INFO:rosetta:\u001b[0mprotocols.toolbox.match_enzdes_util.EnzConstraintIO: \u001b[0mCst Block 9done...\n",
      "INFO:rosetta:\u001b[0mprotocols.toolbox.match_enzdes_util.EnzConstraintParameters: \u001b[0mConstraint specified between residues 436 and 439 is ambiguous, 4 different possibilities ( 2 for 436, 2 for 439.)\n",
      "INFO:rosetta:\u001b[0mprotocols.toolbox.match_enzdes_util.EnzConstraintParameters: \u001b[0mfor block 10, 4 newly generated constraints were added\n",
      "INFO:rosetta:\u001b[0mprotocols.toolbox.match_enzdes_util.EnzConstraintIO: \u001b[0mchecking cst data consistency for block 10...  done\n",
      "INFO:rosetta:\u001b[0mprotocols.toolbox.match_enzdes_util.EnzConstraintIO: \u001b[0mCst Block 10done...\n",
      "INFO:rosetta:\u001b[0mprotocols.toolbox.match_enzdes_util.EnzConstraintParameters: \u001b[0mfor block 11, 1 newly generated constraints were added\n",
      "INFO:rosetta:\u001b[0mprotocols.toolbox.match_enzdes_util.EnzConstraintIO: \u001b[0mchecking cst data consistency for block 11...  done\n",
      "INFO:rosetta:\u001b[0mprotocols.toolbox.match_enzdes_util.EnzConstraintIO: \u001b[0mCst Block 11done...\n",
      "INFO:rosetta:\u001b[0mprotocols.toolbox.match_enzdes_util.EnzConstraintParameters: \u001b[0mfor block 12, 1 newly generated constraints were added\n",
      "INFO:rosetta:\u001b[0mprotocols.toolbox.match_enzdes_util.EnzConstraintIO: \u001b[0mchecking cst data consistency for block 12...  done\n",
      "INFO:rosetta:\u001b[0mprotocols.toolbox.match_enzdes_util.EnzConstraintIO: \u001b[0mCst Block 12done...\n",
      "INFO:rosetta:\u001b[0mprotocols.toolbox.match_enzdes_util.EnzConstraintParameters: \u001b[0mfor block 13, 1 newly generated constraints were added\n",
      "INFO:rosetta:\u001b[0mprotocols.toolbox.match_enzdes_util.EnzConstraintIO: \u001b[0mchecking cst data consistency for block 13...  done\n",
      "INFO:rosetta:\u001b[0mprotocols.toolbox.match_enzdes_util.EnzConstraintIO: \u001b[0mCst Block 13done...\n",
      "INFO:rosetta:\u001b[0mprotocols.rosetta_scripts.ParsedProtocol: \u001b[0m=======================BEGIN MOVER FavorSequenceProfile - FSP=======================\n",
      "INFO:rosetta:\u001b[0mprotocols.rosetta_scripts.ParsedProtocol: \u001b[0m=======================BEGIN MOVER BackrubDD - backrub=======================\n",
      "INFO:rosetta:\u001b[0mbasic.io.database: \u001b[0mDatabase file opened: sampling/branch_angle/branch_angle_1.txt\n",
      "INFO:rosetta:\u001b[0mbasic.io.database: \u001b[0mDatabase file opened: sampling/branch_angle/branch_angle_2.txt\n",
      "INFO:rosetta:\u001b[0mprotocols.backrub.BackrubMover: \u001b[0mSegment lengths: 3-34 atoms\n",
      "INFO:rosetta:\u001b[0mprotocols.backrub.BackrubMover: \u001b[0mMain chain pivot atoms: CA\n",
      "INFO:rosetta:\u001b[0mprotocols.backrub.BackrubMover: \u001b[0mTotal Segments Added: 0\n",
      "INFO:rosetta:\u001b[0mprotocols.protein_interface_design.BackrubDDMover: \u001b[0mBackrub Segments Added: 0\n",
      "No segments to backrub. skipping backrub.\n",
      "INFO:rosetta:\u001b[0mprotocols.simple_moves.BBGaussianMover: \u001b[0mFinal factorA=0.5\n",
      "INFO:rosetta:\u001b[0mprotocols.rosetta_scripts.ParsedProtocol: \u001b[0m=======================BEGIN MOVER Transform - transform=======================\n",
      "INFO:rosetta:\u001b[0mcore.pose.util: \u001b[0m\u001b[1m[ WARNING ]\u001b[0m get_jump_id_from_chain_id(): Chain 2 has multiple jumps, returning the lowest number one.\n",
      "INFO:rosetta:\u001b[0mprotocols.qsar.scoring_grid.GridManager: \u001b[0mFound a conformation matching hash: 6847c0d2ec2b7d0827e88ea4a5a49d90c5472590 Loading from grid cache\n"
     ]
    },
    {
     "name": "stderr",
     "output_type": "stream",
     "text": [
      "INFO:rosetta:\u001b[0mprotocols.ligand_docking.Transform: \u001b[0mConsidering 1 conformers during sampling\n",
      "INFO:rosetta:\u001b[0mprotocols.ligand_docking.Transform: \u001b[0mpercent acceptance: 206 0.412 294\n",
      "INFO:rosetta:\u001b[0mprotocols.ligand_docking.Transform: \u001b[0mMoves rejected for being outside of grid: 50  0.1\n",
      "INFO:rosetta:\u001b[0mprotocols.ligand_docking.Transform: \u001b[0m\u001b[1m[ WARNING ]\u001b[0m A large number of moves were rejected for being outside the grid. You likely want to reexamine your settings.\n",
      "INFO:rosetta:\u001b[0mprotocols.ligand_docking.Transform: \u001b[0m\u001b[1m[ WARNING ]\u001b[0m     For the current settings, a grid size of at least 19.5    and a box size of at least 6.9 are recommended.\n",
      "INFO:rosetta:\u001b[0mprotocols.ligand_docking.Transform: \u001b[0mAccepted pose with grid score: -21\n",
      "INFO:rosetta:\u001b[0mprotocols.rosetta_scripts.ParsedProtocol: \u001b[0m=======================BEGIN MOVER GenericMonteCarlo - interactive_dp=======================\n",
      "INFO:rosetta:\u001b[0mprotocols.monte_carlo.GenericMonteCarloMover: \u001b[0mNo task inputted\n",
      "INFO:rosetta:\u001b[0mprotocols.monte_carlo.GenericMonteCarloMover: \u001b[0mThe number of trials for this run is: 4\n",
      "INFO:rosetta:\u001b[0mprotocols.monte_carlo.GenericMonteCarloMover: \u001b[0mInitialization done\n",
      "INFO:rosetta:\u001b[0mprotocols.monte_carlo.GenericMonteCarloMover: \u001b[0mTrial number: 1\n",
      "INFO:rosetta:\u001b[0mprotocols.rosetta_scripts.ParsedProtocol: \u001b[0m=======================BEGIN MOVER PredesignPerturbMover - predock=======================\n",
      "INFO:rosetta:\u001b[0mcore.scoring.ScoreFunctionFactory: \u001b[0m\u001b[1m[ WARNING ]\u001b[0m **************************************************************************\n",
      "*****************************************************\n",
      "****************************************************\n",
      "talaris2013_cst may be a 'talaris' scorefunction, but ScoreFunctionFactory thinks the -restore_talaris_behavior flags weren't set.  Your scorefunction may be garbage!\n",
      "**************************************************************************\n",
      "*****************************************************\n",
      "****************************************************\n",
      "INFO:rosetta:\u001b[0mcore.pack.task: \u001b[0mPacker task: initialize from command line()\n",
      "INFO:rosetta:\u001b[0mprotocols.enzdes.EnzdesTaskOperations: \u001b[0mFinal Design Shell Residues: 1, 2, 3, 4, 5, 6, 7, 8, 9, 10, 11, 12, 13, 14, 15, 16, 17, 18, 19, 20, 21, 22, 23, 24, 25, 26, 27, 28, 29, 30, 31, 32, 33, 34, 35, 36, 37, 38, 39, 40, 41, 42, 43, 44, 45, 46, 47, 48, 49, 50, 51, 52, 53, 54, 55, 56, 57, 58, 59, 60, 61, 62, 63, 64, 65, 66, 67, 68, 69, 70, 71, 72, 73, 74, 75, 76, 77, 78, 79, 80, 81, 82, 83, 84, 85, 86, 87, 88, 89, 90, 91, 92, 93, 94, 95, 96, 97, 98, 99, 100, 101, 102, 103, 104, 105, 106, 107, 108, 109, 110, 111, 112, 113, 114, 115, 116, 117, 118, 119, 120, 121, 122, 123, 124, 125, 126, 127, 128, 129, 130, 131, 132, 133, 134, 135, 136, 137, 138, 139, 140, 141, 142, 143, 144, 145, 146, 147, 148, 149, 150, 151, 152, 153, 154, 155, 156, 157, 158, 159, 160, 161, 162, 163, 164, 165, 166, 167, 168, 169, 170, 171, 172, 173, 174, 175, 176, 177, 178, 179, 180, 181, 182, 183, 184, 185, 186, 187, 188, 189, 190, 191, 192, 193, 194, 195, 196, 197, 198, 199, 200, 201, 202, 203, 204, 205, 206, 207, 208, 209, 210, 211, 212, 213, 214, 215, 216, 217, 218, 219, 220, 221, 222, 223, 224, 225, 226, 227, 228, 229, 230, 231, 232, 233, 234, 235, 236, 237, 238, 239, 240, 241, 242, 243, 244, 245, 246, 247, 248, 249, 250, 251, 252, 253, 254, 255, 256, 257, 258, 259, 260, 261, 262, 263, 264, 265, 266, 267, 268, 269, 270, 271, 272, 273, 274, 275, 276, 277, 278, 279, 280, 281, 282, 284, 285, 286, 287, 288, 289, 290, 291, 292, 293, 294, 295, 296, 297, 298, 299, 300, 301, 302, 303, 304, 305, 306, 307, 308, 309, 310, 311, 312, 313, 314, 315, 316, 317, 318, 319, 320, 321, 322, 323, 324, 325, 326, 327, 328, 329, 330, 331, 332, 333, 334, 335, 336, 337, 338, 339, 340, 341, 342, 343, 344, 345, 346, 347, 348, 349, 350, 351, 352, 353, 354, 355, 356, 357, 358, 359, 360, 361, 362, 363, 364, 365, 366, 367, 368, 369, 370, 371, 372, 373, 374, 375, 376, 377, 378, 379, 380, 381, 382, 383, 384, 385, 386, 387, 388, 389, 390, 391, 392, 393, 394, 395, 396, 397, 398, 399, 400, 401, 402, 403, 404, 405, 406, 407, 408, 409, 410, 411, 412, 413, 414, 415, 416, 417, 418, 419, 420, 421, 422, 423, 424, 425, 426, 427, 428, 429, 430, 431, 432, 433, 434, 435, 436, 437, 438, 439, 440, 441, 442, 443, 444, 445, 446, 447, 448, 449, 450, 451, 452, 453, 454, 455, 456, 457, 458, 459, 460, 461, 462, 463, 464, 465, 466, 467, 468, 469, 470, 471, 472, 473, 474,\n",
      "INFO:rosetta:\u001b[0mprotocols.enzdes.EnzdesTaskOperations: \u001b[0mFinal Repack Shell Residues: 1, 2, 3, 4, 5, 6, 7, 8, 9, 10, 11, 12, 13, 14, 15, 16, 17, 18, 19, 20, 21, 22, 23, 24, 25, 26, 27, 28, 29, 30, 31, 32, 33, 34, 35, 36, 37, 38, 39, 40, 41, 42, 43, 44, 45, 46, 47, 48, 49, 50, 51, 52, 53, 54, 55, 56, 57, 58, 59, 60, 61, 62, 63, 64, 65, 66, 67, 68, 69, 70, 71, 72, 73, 74, 75, 76, 77, 78, 79, 80, 81, 82, 83, 84, 85, 86, 87, 88, 89, 90, 91, 92, 93, 94, 95, 96, 97, 98, 99, 100, 101, 102, 103, 104, 105, 106, 107, 108, 109, 110, 111, 112, 113, 114, 115, 116, 117, 118, 119, 120, 121, 122, 123, 124, 125, 126, 127, 128, 129, 130, 131, 132, 133, 134, 135, 136, 137, 138, 139, 140, 141, 142, 143, 144, 145, 146, 147, 148, 149, 150, 151, 152, 153, 154, 155, 156, 157, 158, 159, 160, 161, 162, 163, 164, 165, 166, 167, 168, 169, 170, 171, 172, 173, 174, 175, 176, 177, 178, 179, 180, 181, 182, 183, 184, 185, 186, 187, 188, 189, 190, 191, 192, 193, 194, 195, 196, 197, 198, 199, 200, 201, 202, 203, 204, 205, 206, 207, 208, 209, 210, 211, 212, 213, 214, 215, 216, 217, 218, 219, 220, 221, 222, 223, 224, 225, 226, 227, 228, 229, 230, 231, 232, 233, 234, 235, 236, 237, 238, 239, 240, 241, 242, 243, 244, 245, 246, 247, 248, 249, 250, 251, 252, 253, 254, 255, 256, 257, 258, 259, 260, 261, 262, 263, 264, 265, 266, 267, 268, 269, 270, 271, 272, 273, 274, 275, 276, 277, 278, 279, 280, 281, 282, 283, 284, 285, 286, 287, 288, 289, 290, 291, 292, 293, 294, 295, 296, 297, 298, 299, 300, 301, 302, 303, 304, 305, 306, 307, 308, 309, 310, 311, 312, 313, 314, 315, 316, 317, 318, 319, 320, 321, 322, 323, 324, 325, 326, 327, 328, 329, 330, 331, 332, 333, 334, 335, 336, 337, 338, 339, 340, 341, 342, 343, 344, 345, 346, 347, 348, 349, 350, 351, 352, 353, 354, 355, 356, 357, 358, 359, 360, 361, 362, 363, 364, 365, 366, 367, 368, 369, 370, 371, 372, 373, 374, 375, 376, 377, 378, 379, 380, 381, 382, 383, 384, 385, 386, 387, 388, 389, 390, 391, 392, 393, 394, 395, 396, 397, 398, 399, 400, 401, 402, 403, 404, 405, 406, 407, 408, 409, 410, 411, 412, 413, 414, 415, 416, 417, 418, 419, 420, 421, 422, 423, 424, 425, 426, 427, 428, 429, 430, 431, 432, 433, 434, 435, 436, 437, 438, 439, 440, 441, 442, 443, 444, 445, 446, 447, 448, 449, 450, 451, 452, 453, 454, 455, 456, 457, 458, 459, 460, 461, 462, 463, 464, 465, 466, 467, 468, 469, 470, 471, 472, 473, 474, 475, 476,\n",
      "INFO:rosetta:\u001b[0mprotocols.enzdes.PredesignPerturbMover: \u001b[0mAmbiguousConstraint\n",
      "INFO:rosetta:\u001b[0mprotocols.enzdes.PredesignPerturbMover: \u001b[0mMultiConstraint\n",
      "INFO:rosetta:\u001b[0mprotocols.enzdes.PredesignPerturbMover: \u001b[0mAmbiguousConstraint\n",
      "INFO:rosetta:\u001b[0mprotocols.enzdes.PredesignPerturbMover: \u001b[0mMultiConstraint\n",
      "INFO:rosetta:\u001b[0mprotocols.enzdes.PredesignPerturbMover: \u001b[0mAmbiguousConstraint\n",
      "INFO:rosetta:\u001b[0mprotocols.enzdes.PredesignPerturbMover: \u001b[0mMultiConstraint\n",
      "INFO:rosetta:\u001b[0mprotocols.enzdes.PredesignPerturbMover: \u001b[0mMultiConstraint\n",
      "INFO:rosetta:\u001b[0mprotocols.enzdes.PredesignPerturbMover: \u001b[0mstarting predocking ...\n"
     ]
    }
   ],
   "source": [
    "working_dir = os.getcwd()\n",
    "output_dir = os.path.join(working_dir, \"output\")\n",
    "if not os.path.exists(output_dir):\n",
    "    os.mkdir(output_dir)\n",
    "os.chdir(output_dir)\n",
    "#for slurm submission \n",
    "job_output = sys.argv[1]\n",
    "#job_output =\"test_lig\"\n",
    "jd = pyrosetta.toolbox.py_jobdistributor.PyJobDistributor(pdb_name=job_output,\n",
    "                                                          nstruct=10,\n",
    "                                                          scorefxn=sfxn)\n",
    "jd.native_pose = pose\n",
    "jd.json_format = True\n",
    "df = pd.DataFrame()\n",
    "while not jd.job_complete:\n",
    "    test_pose = pose.clone()\n",
    "    xml.apply(test_pose)\n",
    "    print(test_pose.scores)\n",
    "    print(jd.current_name)\n",
    "    test_df = pd.DataFrame.from_records(dict(test_pose.scores), index=[jd.current_name])\n",
    "    print(test_df)\n",
    "    df = df.append(test_df)\n",
    "    jd.output_decoy(test_pose)\n",
    "    print(df)\n",
    "# os.chdir(working_dir)"
   ]
  },
  {
   "cell_type": "code",
   "execution_count": 11,
   "metadata": {},
   "outputs": [],
   "source": [
    "data = []\n",
    "with open('%s.fasc'% job_output) as f:\n",
    "    for line in f:\n",
    "        data.append(json.loads(line))\n",
    "#The MongoDB JSON dump has one object per line, so what worked for me is:\n",
    "pd.DataFrame(data).to_csv('%s.csv' % job_output )"
   ]
  },
  {
   "cell_type": "code",
   "execution_count": 16,
   "metadata": {
    "scrolled": true
   },
   "outputs": [
    {
     "data": {
      "text/html": [
       "<div>\n",
       "<style scoped>\n",
       "    .dataframe tbody tr th:only-of-type {\n",
       "        vertical-align: middle;\n",
       "    }\n",
       "\n",
       "    .dataframe tbody tr th {\n",
       "        vertical-align: top;\n",
       "    }\n",
       "\n",
       "    .dataframe thead th {\n",
       "        text-align: right;\n",
       "    }\n",
       "</style>\n",
       "<table border=\"1\" class=\"dataframe\">\n",
       "  <thead>\n",
       "    <tr style=\"text-align: right;\">\n",
       "      <th></th>\n",
       "      <th>Unnamed: 0</th>\n",
       "      <th>allcst</th>\n",
       "      <th>angle_constraint</th>\n",
       "      <th>atom_pair_constraint</th>\n",
       "      <th>ch_bond_bb_bb</th>\n",
       "      <th>chainbreak</th>\n",
       "      <th>coordinate_constraint</th>\n",
       "      <th>decoy</th>\n",
       "      <th>dihedral_constraint</th>\n",
       "      <th>dslf_ca_dih</th>\n",
       "      <th>...</th>\n",
       "      <th>nstruct</th>\n",
       "      <th>omega</th>\n",
       "      <th>p_aa_pp</th>\n",
       "      <th>pdb_name</th>\n",
       "      <th>pro_close</th>\n",
       "      <th>rama</th>\n",
       "      <th>ref</th>\n",
       "      <th>res_type_constraint</th>\n",
       "      <th>rmsd</th>\n",
       "      <th>total_score</th>\n",
       "    </tr>\n",
       "  </thead>\n",
       "  <tbody>\n",
       "    <tr>\n",
       "      <th>0</th>\n",
       "      <td>0</td>\n",
       "      <td>NaN</td>\n",
       "      <td>76.502647</td>\n",
       "      <td>500.152449</td>\n",
       "      <td>-20.14482</td>\n",
       "      <td>0.0</td>\n",
       "      <td>0.0</td>\n",
       "      <td>test_lig_0.pdb</td>\n",
       "      <td>0.0</td>\n",
       "      <td>0.0</td>\n",
       "      <td>...</td>\n",
       "      <td>2</td>\n",
       "      <td>13.400816</td>\n",
       "      <td>-44.207485</td>\n",
       "      <td>test_lig</td>\n",
       "      <td>6.556656</td>\n",
       "      <td>-25.786570</td>\n",
       "      <td>-39.597901</td>\n",
       "      <td>-1312.0</td>\n",
       "      <td>0.0</td>\n",
       "      <td>-1692.444363</td>\n",
       "    </tr>\n",
       "    <tr>\n",
       "      <th>1</th>\n",
       "      <td>1</td>\n",
       "      <td>0.072486</td>\n",
       "      <td>0.012026</td>\n",
       "      <td>0.060460</td>\n",
       "      <td>-20.14482</td>\n",
       "      <td>0.0</td>\n",
       "      <td>0.0</td>\n",
       "      <td>test_lig_1.pdb</td>\n",
       "      <td>0.0</td>\n",
       "      <td>0.0</td>\n",
       "      <td>...</td>\n",
       "      <td>2</td>\n",
       "      <td>13.507637</td>\n",
       "      <td>-44.022308</td>\n",
       "      <td>test_lig</td>\n",
       "      <td>1.976733</td>\n",
       "      <td>-25.714951</td>\n",
       "      <td>-40.246162</td>\n",
       "      <td>-1313.0</td>\n",
       "      <td>0.0</td>\n",
       "      <td>-2338.744850</td>\n",
       "    </tr>\n",
       "  </tbody>\n",
       "</table>\n",
       "<p>2 rows × 37 columns</p>\n",
       "</div>"
      ],
      "text/plain": [
       "   Unnamed: 0    allcst  angle_constraint  atom_pair_constraint  \\\n",
       "0           0       NaN         76.502647            500.152449   \n",
       "1           1  0.072486          0.012026              0.060460   \n",
       "\n",
       "   ch_bond_bb_bb  chainbreak  coordinate_constraint           decoy  \\\n",
       "0      -20.14482         0.0                    0.0  test_lig_0.pdb   \n",
       "1      -20.14482         0.0                    0.0  test_lig_1.pdb   \n",
       "\n",
       "   dihedral_constraint  dslf_ca_dih     ...       nstruct      omega  \\\n",
       "0                  0.0          0.0     ...             2  13.400816   \n",
       "1                  0.0          0.0     ...             2  13.507637   \n",
       "\n",
       "     p_aa_pp  pdb_name  pro_close       rama        ref  res_type_constraint  \\\n",
       "0 -44.207485  test_lig   6.556656 -25.786570 -39.597901              -1312.0   \n",
       "1 -44.022308  test_lig   1.976733 -25.714951 -40.246162              -1313.0   \n",
       "\n",
       "   rmsd  total_score  \n",
       "0   0.0 -1692.444363  \n",
       "1   0.0 -2338.744850  \n",
       "\n",
       "[2 rows x 37 columns]"
      ]
     },
     "execution_count": 16,
     "metadata": {},
     "output_type": "execute_result"
    }
   ],
   "source": [
    "#pd.read_csv('%s.csv' % job_output)"
   ]
  },
  {
   "cell_type": "code",
   "execution_count": null,
   "metadata": {},
   "outputs": [],
   "source": []
  }
 ],
 "metadata": {
  "kernelspec": {
   "display_name": "Python 3",
   "language": "python",
   "name": "python3"
  },
  "language_info": {
   "codemirror_mode": {
    "name": "ipython",
    "version": 3
   },
   "file_extension": ".py",
   "mimetype": "text/x-python",
   "name": "python",
   "nbconvert_exporter": "python",
   "pygments_lexer": "ipython3",
   "version": "3.6.5"
  }
 },
 "nbformat": 4,
 "nbformat_minor": 2
}
